{
 "cells": [
  {
   "cell_type": "markdown",
   "metadata": {
    "colab_type": "text",
    "id": "bGyHWbOM70HN"
   },
   "source": [
    "## Image Classification\n",
    "\n",
    "\n",
    "Image classification is one of the important use cases in our daily life. Automotive, e-commerce, retail, manufacturing industries, security, surveillance, healthcare, farming etc., can have a wide application of image classification.\n",
    "\n",
    "**Objective:** In this notebook, we will build a neural network to classifiy the image based on the object present in the image.\n"
   ]
  },
  {
   "cell_type": "markdown",
   "metadata": {
    "colab_type": "text",
    "id": "8LSdjqV35-j_"
   },
   "source": [
    "\n",
    "## Advanced techniques for training neural networks\n",
    "\n",
    "Weight Initialization\n",
    "\n",
    "Nonlinearity (different Activation functions)\n",
    "\n",
    "Optimizers(different optimizers)\n",
    "\n",
    "Batch Normalization\n",
    "\n",
    "Dropout"
   ]
  },
  {
   "cell_type": "markdown",
   "metadata": {
    "colab_type": "text",
    "id": "XfL8u4jx82pG"
   },
   "source": [
    "### About Dataset\n",
    "\n",
    "\n",
    "Each image is 28 pixels in height and 28 pixels in width, for a total of 784 pixels in total. Each pixel has a single pixel-value associated with it, indicating the lightness or darkness of that pixel, with higher numbers meaning darker. This pixel-value is an integer between 0 and 255. The training and test data sets have 785 columns. The first column consists of the class labels (see above), and represents the article of clothing. The rest of the columns contain the pixel-values of the associated image.\n",
    "\n",
    "#### Labels\n",
    "\n",
    "Each training and test example is assigned to one of the following labels:\n",
    "\n",
    "0 T-shirt/top\n",
    "\n",
    "1 Trouser\n",
    "\n",
    "2 Pullover\n",
    "\n",
    "3 Dress\n",
    "\n",
    "4 Coat\n",
    "\n",
    "5 Sandal\n",
    "\n",
    "6 Shirt\n",
    "\n",
    "7 Sneaker\n",
    "\n",
    "8 Bag\n",
    "\n",
    "9 Ankle boot "
   ]
  },
  {
   "cell_type": "markdown",
   "metadata": {
    "colab_type": "text",
    "id": "-XGznu8t6HBc"
   },
   "source": [
    "### Load dataset\n",
    "\n",
    "Fashion-MNIST dataset\n"
   ]
  },
  {
   "cell_type": "code",
   "execution_count": 76,
   "metadata": {
    "colab": {},
    "colab_type": "code",
    "id": "3m64izx05_VU"
   },
   "outputs": [],
   "source": [
    "import matplotlib.pyplot as plt\n",
    "\n",
    "from sklearn.model_selection import train_test_split\n",
    "from tensorflow.keras.datasets import fashion_mnist\n",
    "from tensorflow.keras.models import Sequential\n",
    "from tensorflow.keras.utils import to_categorical\n",
    "import pandas as pd"
   ]
  },
  {
   "cell_type": "code",
   "execution_count": 77,
   "metadata": {
    "colab": {
     "base_uri": "https://localhost:8080/",
     "height": 158
    },
    "colab_type": "code",
    "executionInfo": {
     "elapsed": 3672,
     "status": "ok",
     "timestamp": 1574342867752,
     "user": {
      "displayName": "Suryansh Sharma",
      "photoUrl": "https://lh3.googleusercontent.com/a-/AAuE7mBy1CGO0PDyRG1nsJ6rDaUXBg-h18OkEJ86htszrw=s64",
      "userId": "03232072030227591914"
     },
     "user_tz": -330
    },
    "id": "eAkQmLqP6I2W",
    "outputId": "9107a4b3-23d1-4b30-f4bf-16fd52a6a31c"
   },
   "outputs": [],
   "source": [
    "(X_train, y_train), (X_test, y_test) = fashion_mnist.load_data()"
   ]
  },
  {
   "cell_type": "code",
   "execution_count": 80,
   "metadata": {},
   "outputs": [
    {
     "data": {
      "text/plain": [
       "<matplotlib.axes._subplots.AxesSubplot at 0x2846a832a58>"
      ]
     },
     "execution_count": 80,
     "metadata": {},
     "output_type": "execute_result"
    },
    {
     "data": {
      "image/png": "[encoded data removed]",
      "text/plain": [
       "<Figure size 432x288 with 1 Axes>"
      ]
     },
     "metadata": {
      "needs_background": "light"
     },
     "output_type": "display_data"
    }
   ],
   "source": [
    "pd.Series(y_train).value_counts().plot(kind = 'bar')"
   ]
  },
  {
   "cell_type": "code",
   "execution_count": 18,
   "metadata": {},
   "outputs": [
    {
     "data": {
      "text/plain": [
       "9"
      ]
     },
     "execution_count": 18,
     "metadata": {},
     "output_type": "execute_result"
    }
   ],
   "source": [
    "y_train[0] #9 is ankle boot"
   ]
  },
  {
   "cell_type": "code",
   "execution_count": 21,
   "metadata": {},
   "outputs": [
    {
     "data": {
      "text/plain": [
       "(28, 28)"
      ]
     },
     "execution_count": 21,
     "metadata": {},
     "output_type": "execute_result"
    }
   ],
   "source": [
    "X_train[0].shape"
   ]
  },
  {
   "cell_type": "code",
   "execution_count": 38,
   "metadata": {},
   "outputs": [],
   "source": [
    "#import numpy as np\n",
    "#np.matrix(X_train[0])"
   ]
  },
  {
   "cell_type": "code",
   "execution_count": 22,
   "metadata": {},
   "outputs": [],
   "source": [
    "#import cv2\n",
    "\n",
    "#img = cv2.imread(r'D:\\PERSONAL DATA\\Pg25.png') # (H,W,color coordinate !)"
   ]
  },
  {
   "cell_type": "code",
   "execution_count": 23,
   "metadata": {},
   "outputs": [],
   "source": [
    "#img.shape"
   ]
  },
  {
   "cell_type": "code",
   "execution_count": 41,
   "metadata": {},
   "outputs": [],
   "source": [
    "# RGB # gray scale"
   ]
  },
  {
   "cell_type": "code",
   "execution_count": 24,
   "metadata": {
    "colab": {
     "base_uri": "https://localhost:8080/",
     "height": 282
    },
    "colab_type": "code",
    "executionInfo": {
     "elapsed": 1157,
     "status": "ok",
     "timestamp": 1574342869741,
     "user": {
      "displayName": "Suryansh Sharma",
      "photoUrl": "https://lh3.googleusercontent.com/a-/AAuE7mBy1CGO0PDyRG1nsJ6rDaUXBg-h18OkEJ86htszrw=s64",
      "userId": "03232072030227591914"
     },
     "user_tz": -330
    },
    "id": "Mr5bH4OY6Ndk",
    "outputId": "11d1c75c-ab8c-4416-9416-f4645a2e4fd2"
   },
   "outputs": [
    {
     "data": {
      "image/png": "[encoded data removed]",
      "text/plain": [
       "<Figure size 432x288 with 1 Axes>"
      ]
     },
     "metadata": {
      "needs_background": "light"
     },
     "output_type": "display_data"
    },
    {
     "name": "stdout",
     "output_type": "stream",
     "text": [
      "Label:  9\n"
     ]
    }
   ],
   "source": [
    "plt.imshow(X_train[0])    # show first number in the dataset\n",
    "plt.show()\n",
    "print('Label: ', y_train[0])"
   ]
  },
  {
   "cell_type": "code",
   "execution_count": 43,
   "metadata": {},
   "outputs": [],
   "source": [
    "# label 9 is ankle boot"
   ]
  },
  {
   "cell_type": "code",
   "execution_count": 25,
   "metadata": {
    "colab": {
     "base_uri": "https://localhost:8080/",
     "height": 282
    },
    "colab_type": "code",
    "executionInfo": {
     "elapsed": 1096,
     "status": "ok",
     "timestamp": 1574342874167,
     "user": {
      "displayName": "Suryansh Sharma",
      "photoUrl": "https://lh3.googleusercontent.com/a-/AAuE7mBy1CGO0PDyRG1nsJ6rDaUXBg-h18OkEJ86htszrw=s64",
      "userId": "03232072030227591914"
     },
     "user_tz": -330
    },
    "id": "bcTZqYFj6PcB",
    "outputId": "b93189d0-53c2-4c4a-c98a-7e2dccaecd52"
   },
   "outputs": [
    {
     "data": {
      "image/png": "[encoded data removed]",
      "text/plain": [
       "<Figure size 432x288 with 1 Axes>"
      ]
     },
     "metadata": {
      "needs_background": "light"
     },
     "output_type": "display_data"
    },
    {
     "name": "stdout",
     "output_type": "stream",
     "text": [
      "Label:  9\n"
     ]
    }
   ],
   "source": [
    "plt.imshow(X_test[0])    # show first number in the dataset\n",
    "plt.show()\n",
    "print('Label: ', y_test[0])"
   ]
  },
  {
   "cell_type": "code",
   "execution_count": 26,
   "metadata": {},
   "outputs": [
    {
     "data": {
      "text/plain": [
       "((60000, 28, 28), (60000,))"
      ]
     },
     "execution_count": 26,
     "metadata": {},
     "output_type": "execute_result"
    }
   ],
   "source": [
    "X_train.shape,y_train.shape"
   ]
  },
  {
   "cell_type": "markdown",
   "metadata": {
    "colab_type": "text",
    "id": "JZxmqqAa9Cz7"
   },
   "source": [
    "### Data Pre-processing"
   ]
  },
  {
   "cell_type": "code",
   "execution_count": 27,
   "metadata": {
    "colab": {},
    "colab_type": "code",
    "id": "5TCY3Jnm6RHr"
   },
   "outputs": [],
   "source": [
    "# reshaping X data: (n, 28, 28) => (n, 784)\n",
    "X_train = X_train.reshape((X_train.shape[0], -1)) #.reshape(60000, 28*28)\n",
    "X_test = X_test.reshape((X_test.shape[0], -1))"
   ]
  },
  {
   "cell_type": "code",
   "execution_count": 28,
   "metadata": {},
   "outputs": [
    {
     "data": {
      "text/plain": [
       "((60000, 784), (60000,))"
      ]
     },
     "execution_count": 28,
     "metadata": {},
     "output_type": "execute_result"
    }
   ],
   "source": [
    "X_train.shape,y_train.shape"
   ]
  },
  {
   "cell_type": "code",
   "execution_count": 29,
   "metadata": {
    "colab": {},
    "colab_type": "code",
    "id": "oG06URdH6Vvv"
   },
   "outputs": [],
   "source": [
    "# converting y data into categorical (one-hot encoding)\n",
    "y_train = to_categorical(y_train)\n",
    "y_test = to_categorical(y_test)"
   ]
  },
  {
   "cell_type": "code",
   "execution_count": 30,
   "metadata": {
    "colab": {
     "base_uri": "https://localhost:8080/",
     "height": 34
    },
    "colab_type": "code",
    "executionInfo": {
     "elapsed": 1386,
     "status": "ok",
     "timestamp": 1574342879223,
     "user": {
      "displayName": "Suryansh Sharma",
      "photoUrl": "https://lh3.googleusercontent.com/a-/AAuE7mBy1CGO0PDyRG1nsJ6rDaUXBg-h18OkEJ86htszrw=s64",
      "userId": "03232072030227591914"
     },
     "user_tz": -330
    },
    "id": "71HK9T0P6Y2G",
    "outputId": "7cdded0c-7b72-469a-df8f-45420fb7cd3d"
   },
   "outputs": [
    {
     "name": "stdout",
     "output_type": "stream",
     "text": [
      "(60000, 784) (10000, 784) (60000, 10) (10000, 10)\n"
     ]
    }
   ],
   "source": [
    "print(X_train.shape, X_test.shape, y_train.shape, y_test.shape)"
   ]
  },
  {
   "cell_type": "markdown",
   "metadata": {
    "colab_type": "text",
    "id": "yb0Kx_ME6plD"
   },
   "source": [
    "### Basic NN model\n",
    "\n",
    "Naive MLP (multilayer perceptron) model without any alterations"
   ]
  },
  {
   "cell_type": "code",
   "execution_count": 31,
   "metadata": {
    "colab": {},
    "colab_type": "code",
    "id": "weHT53gF6aFY"
   },
   "outputs": [],
   "source": [
    "from tensorflow.keras.models import Sequential\n",
    "from tensorflow.keras.layers import Activation, Dense\n",
    "from tensorflow.keras import optimizers"
   ]
  },
  {
   "cell_type": "code",
   "execution_count": 32,
   "metadata": {},
   "outputs": [],
   "source": [
    "import tensorflow as tf\n",
    "tf.keras.backend.clear_session() "
   ]
  },
  {
   "cell_type": "code",
   "execution_count": 33,
   "metadata": {
    "colab": {},
    "colab_type": "code",
    "id": "izZlXqJu6sdo"
   },
   "outputs": [],
   "source": [
    "model = Sequential()"
   ]
  },
  {
   "cell_type": "code",
   "execution_count": 34,
   "metadata": {
    "colab": {},
    "colab_type": "code",
    "id": "3dCi-i296tuq"
   },
   "outputs": [
    {
     "name": "stdout",
     "output_type": "stream",
     "text": [
      "WARNING:tensorflow:From c:\\users\\gaurav.das\\appdata\\local\\programs\\python\\python37\\lib\\site-packages\\tensorflow\\python\\ops\\resource_variable_ops.py:435: colocate_with (from tensorflow.python.framework.ops) is deprecated and will be removed in a future version.\n",
      "Instructions for updating:\n",
      "Colocations handled automatically by placer.\n"
     ]
    }
   ],
   "source": [
    "model.add(Dense(units = 50, input_shape = (784,)))\n",
    "model.add(Activation('sigmoid'))\n",
    "model.add(Dense(50))\n",
    "model.add(Activation('sigmoid'))\n",
    "model.add(Dense(50))\n",
    "model.add(Activation('sigmoid'))\n",
    "model.add(Dense(50))\n",
    "model.add(Activation('sigmoid'))\n",
    "model.add(Dense(10)) # 10 labels\n",
    "model.add(Activation('softmax'))"
   ]
  },
  {
   "cell_type": "code",
   "execution_count": 35,
   "metadata": {
    "colab": {},
    "colab_type": "code",
    "id": "PJ5FUE916x2b"
   },
   "outputs": [],
   "source": [
    "sgd = optimizers.SGD(lr = 0.01)\n",
    "model.compile(optimizer = sgd, loss = 'categorical_crossentropy', metrics = ['accuracy'])"
   ]
  },
  {
   "cell_type": "code",
   "execution_count": 36,
   "metadata": {},
   "outputs": [
    {
     "name": "stdout",
     "output_type": "stream",
     "text": [
      "_________________________________________________________________\n",
      "Layer (type)                 Output Shape              Param #   \n",
      "=================================================================\n",
      "dense (Dense)                (None, 50)                39250     \n",
      "_________________________________________________________________\n",
      "activation (Activation)      (None, 50)                0         \n",
      "_________________________________________________________________\n",
      "dense_1 (Dense)              (None, 50)                2550      \n",
      "_________________________________________________________________\n",
      "activation_1 (Activation)    (None, 50)                0         \n",
      "_________________________________________________________________\n",
      "dense_2 (Dense)              (None, 50)                2550      \n",
      "_________________________________________________________________\n",
      "activation_2 (Activation)    (None, 50)                0         \n",
      "_________________________________________________________________\n",
      "dense_3 (Dense)              (None, 50)                2550      \n",
      "_________________________________________________________________\n",
      "activation_3 (Activation)    (None, 50)                0         \n",
      "_________________________________________________________________\n",
      "dense_4 (Dense)              (None, 10)                510       \n",
      "_________________________________________________________________\n",
      "activation_4 (Activation)    (None, 10)                0         \n",
      "=================================================================\n",
      "Total params: 47,410\n",
      "Trainable params: 47,410\n",
      "Non-trainable params: 0\n",
      "_________________________________________________________________\n"
     ]
    }
   ],
   "source": [
    "model.summary()"
   ]
  },
  {
   "cell_type": "code",
   "execution_count": 37,
   "metadata": {
    "colab": {
     "base_uri": "https://localhost:8080/",
     "height": 1000
    },
    "colab_type": "code",
    "executionInfo": {
     "elapsed": 116846,
     "status": "ok",
     "timestamp": 1574343017363,
     "user": {
      "displayName": "Suryansh Sharma",
      "photoUrl": "https://lh3.googleusercontent.com/a-/AAuE7mBy1CGO0PDyRG1nsJ6rDaUXBg-h18OkEJ86htszrw=s64",
      "userId": "03232072030227591914"
     },
     "user_tz": -330
    },
    "id": "Zl34l0jR6zH-",
    "outputId": "b97b934c-c534-466f-832b-e84bb3ed402c"
   },
   "outputs": [
    {
     "name": "stdout",
     "output_type": "stream",
     "text": [
      "WARNING:tensorflow:From c:\\users\\gaurav.das\\appdata\\local\\programs\\python\\python37\\lib\\site-packages\\tensorflow\\python\\ops\\math_ops.py:3066: to_int32 (from tensorflow.python.ops.math_ops) is deprecated and will be removed in a future version.\n",
      "Instructions for updating:\n",
      "Use tf.cast instead.\n",
      "Epoch 1/100\n",
      "60000/60000 [==============================] - 1s 16us/sample - loss: 2.3290 - acc: 0.1024\n",
      "Epoch 2/100\n",
      "60000/60000 [==============================] - 1s 13us/sample - loss: 2.2975 - acc: 0.1689\n",
      "Epoch 3/100\n",
      "60000/60000 [==============================] - 1s 13us/sample - loss: 2.2950 - acc: 0.1656\n",
      "Epoch 4/100\n",
      "60000/60000 [==============================] - 1s 13us/sample - loss: 2.2925 - acc: 0.2352\n",
      "Epoch 5/100\n",
      "60000/60000 [==============================] - 1s 13us/sample - loss: 2.2899 - acc: 0.2461\n",
      "Epoch 6/100\n",
      "60000/60000 [==============================] - 1s 13us/sample - loss: 2.2869 - acc: 0.2928\n",
      "Epoch 7/100\n",
      "60000/60000 [==============================] - 1s 13us/sample - loss: 2.2834 - acc: 0.3132\n",
      "Epoch 8/100\n",
      "60000/60000 [==============================] - 1s 14us/sample - loss: 2.2794 - acc: 0.3388\n",
      "Epoch 9/100\n",
      "60000/60000 [==============================] - 1s 13us/sample - loss: 2.2748 - acc: 0.3766\n",
      "Epoch 10/100\n",
      "60000/60000 [==============================] - 1s 14us/sample - loss: 2.2689 - acc: 0.3737\n",
      "Epoch 11/100\n",
      "60000/60000 [==============================] - 1s 14us/sample - loss: 2.2615 - acc: 0.3571\n",
      "Epoch 12/100\n",
      "60000/60000 [==============================] - 1s 13us/sample - loss: 2.2519 - acc: 0.4183\n",
      "Epoch 13/100\n",
      "60000/60000 [==============================] - 1s 14us/sample - loss: 2.2393 - acc: 0.3749\n",
      "Epoch 14/100\n",
      "60000/60000 [==============================] - 1s 13us/sample - loss: 2.2219 - acc: 0.4033\n",
      "Epoch 15/100\n",
      "60000/60000 [==============================] - 1s 13us/sample - loss: 2.1972 - acc: 0.3565\n",
      "Epoch 16/100\n",
      "60000/60000 [==============================] - 1s 13us/sample - loss: 2.1613 - acc: 0.3481\n",
      "Epoch 17/100\n",
      "60000/60000 [==============================] - 1s 13us/sample - loss: 2.1087 - acc: 0.3388\n",
      "Epoch 18/100\n",
      "60000/60000 [==============================] - 1s 13us/sample - loss: 2.0371 - acc: 0.3221\n",
      "Epoch 19/100\n",
      "60000/60000 [==============================] - 1s 14us/sample - loss: 1.9513 - acc: 0.3102\n",
      "Epoch 20/100\n",
      "60000/60000 [==============================] - 1s 14us/sample - loss: 1.8654 - acc: 0.3213\n",
      "Epoch 21/100\n",
      "60000/60000 [==============================] - 1s 14us/sample - loss: 1.7930 - acc: 0.3423\n",
      "Epoch 22/100\n",
      "60000/60000 [==============================] - 1s 13us/sample - loss: 1.7373 - acc: 0.3651\n",
      "Epoch 23/100\n",
      "60000/60000 [==============================] - 1s 13us/sample - loss: 1.6947 - acc: 0.4016\n",
      "Epoch 24/100\n",
      "60000/60000 [==============================] - 1s 15us/sample - loss: 1.6594 - acc: 0.4103\n",
      "Epoch 25/100\n",
      "60000/60000 [==============================] - 1s 14us/sample - loss: 1.6261 - acc: 0.4192\n",
      "Epoch 26/100\n",
      "60000/60000 [==============================] - 1s 14us/sample - loss: 1.5927 - acc: 0.4170\n",
      "Epoch 27/100\n",
      "60000/60000 [==============================] - 1s 14us/sample - loss: 1.5579 - acc: 0.4191\n",
      "Epoch 28/100\n",
      "60000/60000 [==============================] - 1s 14us/sample - loss: 1.5198 - acc: 0.4342\n",
      "Epoch 29/100\n",
      "60000/60000 [==============================] - 1s 14us/sample - loss: 1.4780 - acc: 0.4367\n",
      "Epoch 30/100\n",
      "60000/60000 [==============================] - 1s 14us/sample - loss: 1.4337 - acc: 0.4431\n",
      "Epoch 31/100\n",
      "60000/60000 [==============================] - 1s 14us/sample - loss: 1.3891 - acc: 0.4580\n",
      "Epoch 32/100\n",
      "60000/60000 [==============================] - 1s 14us/sample - loss: 1.3474 - acc: 0.4733\n",
      "Epoch 33/100\n",
      "60000/60000 [==============================] - 1s 14us/sample - loss: 1.3092 - acc: 0.4711\n",
      "Epoch 34/100\n",
      "60000/60000 [==============================] - 1s 14us/sample - loss: 1.2766 - acc: 0.4841\n",
      "Epoch 35/100\n",
      "60000/60000 [==============================] - 1s 14us/sample - loss: 1.2470 - acc: 0.4968\n",
      "Epoch 36/100\n",
      "60000/60000 [==============================] - 1s 14us/sample - loss: 1.2213 - acc: 0.5029\n",
      "Epoch 37/100\n",
      "60000/60000 [==============================] - 1s 14us/sample - loss: 1.1987 - acc: 0.5217\n",
      "Epoch 38/100\n",
      "60000/60000 [==============================] - 1s 15us/sample - loss: 1.1767 - acc: 0.5474\n",
      "Epoch 39/100\n",
      "60000/60000 [==============================] - 1s 15us/sample - loss: 1.1554 - acc: 0.5551\n",
      "Epoch 40/100\n",
      "60000/60000 [==============================] - 1s 14us/sample - loss: 1.1336 - acc: 0.5758\n",
      "Epoch 41/100\n",
      "60000/60000 [==============================] - 1s 15us/sample - loss: 1.1135 - acc: 0.5921\n",
      "Epoch 42/100\n",
      "60000/60000 [==============================] - 1s 15us/sample - loss: 1.0918 - acc: 0.6148\n",
      "Epoch 43/100\n",
      "60000/60000 [==============================] - 1s 15us/sample - loss: 1.0734 - acc: 0.6199\n",
      "Epoch 44/100\n",
      "60000/60000 [==============================] - 1s 15us/sample - loss: 1.0536 - acc: 0.6281\n",
      "Epoch 45/100\n",
      "60000/60000 [==============================] - 1s 15us/sample - loss: 1.0370 - acc: 0.6296\n",
      "Epoch 46/100\n",
      "60000/60000 [==============================] - 1s 14us/sample - loss: 1.0176 - acc: 0.6413\n",
      "Epoch 47/100\n",
      "60000/60000 [==============================] - 1s 14us/sample - loss: 1.0015 - acc: 0.6407\n",
      "Epoch 48/100\n",
      "60000/60000 [==============================] - 1s 15us/sample - loss: 0.9842 - acc: 0.6453\n",
      "Epoch 49/100\n",
      "60000/60000 [==============================] - 1s 14us/sample - loss: 0.9696 - acc: 0.6482\n",
      "Epoch 50/100\n",
      "60000/60000 [==============================] - 1s 15us/sample - loss: 0.9564 - acc: 0.6483\n",
      "Epoch 51/100\n",
      "60000/60000 [==============================] - 1s 14us/sample - loss: 0.9427 - acc: 0.6492\n",
      "Epoch 52/100\n",
      "60000/60000 [==============================] - 1s 14us/sample - loss: 0.9331 - acc: 0.6516\n",
      "Epoch 53/100\n",
      "60000/60000 [==============================] - 1s 15us/sample - loss: 0.9268 - acc: 0.6499\n",
      "Epoch 54/100\n",
      "60000/60000 [==============================] - 1s 15us/sample - loss: 0.9135 - acc: 0.6572\n",
      "Epoch 55/100\n",
      "60000/60000 [==============================] - 1s 14us/sample - loss: 0.9063 - acc: 0.6562\n",
      "Epoch 56/100\n",
      "60000/60000 [==============================] - 1s 15us/sample - loss: 0.8987 - acc: 0.6590\n",
      "Epoch 57/100\n",
      "60000/60000 [==============================] - 1s 15us/sample - loss: 0.8880 - acc: 0.6705\n",
      "Epoch 58/100\n",
      "60000/60000 [==============================] - 1s 15us/sample - loss: 0.8863 - acc: 0.6702\n",
      "Epoch 59/100\n",
      "60000/60000 [==============================] - 1s 15us/sample - loss: 0.8747 - acc: 0.6730\n",
      "Epoch 60/100\n",
      "60000/60000 [==============================] - 1s 15us/sample - loss: 0.8674 - acc: 0.6764\n",
      "Epoch 61/100\n",
      "60000/60000 [==============================] - 1s 14us/sample - loss: 0.8622 - acc: 0.6787\n",
      "Epoch 62/100\n",
      "60000/60000 [==============================] - 1s 14us/sample - loss: 0.8545 - acc: 0.6936\n",
      "Epoch 63/100\n",
      "60000/60000 [==============================] - 1s 14us/sample - loss: 0.8514 - acc: 0.6936\n",
      "Epoch 64/100\n",
      "60000/60000 [==============================] - 1s 15us/sample - loss: 0.8438 - acc: 0.6966\n",
      "Epoch 65/100\n",
      "60000/60000 [==============================] - 1s 14us/sample - loss: 0.8409 - acc: 0.6995\n",
      "Epoch 66/100\n",
      "60000/60000 [==============================] - 1s 15us/sample - loss: 0.8314 - acc: 0.7049\n",
      "Epoch 67/100\n",
      "60000/60000 [==============================] - 1s 16us/sample - loss: 0.8251 - acc: 0.7017\n",
      "Epoch 68/100\n",
      "60000/60000 [==============================] - 1s 15us/sample - loss: 0.8187 - acc: 0.7077\n",
      "Epoch 69/100\n",
      "60000/60000 [==============================] - 1s 15us/sample - loss: 0.8085 - acc: 0.7095\n",
      "Epoch 70/100\n",
      "60000/60000 [==============================] - 1s 15us/sample - loss: 0.8034 - acc: 0.7153\n",
      "Epoch 71/100\n",
      "60000/60000 [==============================] - 1s 15us/sample - loss: 0.8027 - acc: 0.7112\n",
      "Epoch 72/100\n",
      "60000/60000 [==============================] - 1s 14us/sample - loss: 0.7940 - acc: 0.7124\n",
      "Epoch 73/100\n",
      "60000/60000 [==============================] - 1s 14us/sample - loss: 0.7930 - acc: 0.7097\n",
      "Epoch 74/100\n",
      "60000/60000 [==============================] - 1s 15us/sample - loss: 0.7832 - acc: 0.7144\n",
      "Epoch 75/100\n",
      "60000/60000 [==============================] - 1s 15us/sample - loss: 0.7825 - acc: 0.7120\n",
      "Epoch 76/100\n",
      "60000/60000 [==============================] - 1s 15us/sample - loss: 0.7734 - acc: 0.7155\n",
      "Epoch 77/100\n"
     ]
    },
    {
     "name": "stdout",
     "output_type": "stream",
     "text": [
      "60000/60000 [==============================] - 1s 14us/sample - loss: 0.7654 - acc: 0.7205\n",
      "Epoch 78/100\n",
      "60000/60000 [==============================] - 1s 15us/sample - loss: 0.7685 - acc: 0.7145\n",
      "Epoch 79/100\n",
      "60000/60000 [==============================] - 1s 14us/sample - loss: 0.7592 - acc: 0.7185\n",
      "Epoch 80/100\n",
      "60000/60000 [==============================] - 1s 14us/sample - loss: 0.7563 - acc: 0.7186\n",
      "Epoch 81/100\n",
      "60000/60000 [==============================] - 1s 15us/sample - loss: 0.7516 - acc: 0.7171\n",
      "Epoch 82/100\n",
      "60000/60000 [==============================] - 1s 15us/sample - loss: 0.7528 - acc: 0.7149\n",
      "Epoch 83/100\n",
      "60000/60000 [==============================] - 1s 14us/sample - loss: 0.7519 - acc: 0.7168\n",
      "Epoch 84/100\n",
      "60000/60000 [==============================] - 1s 15us/sample - loss: 0.7467 - acc: 0.7191\n",
      "Epoch 85/100\n",
      "60000/60000 [==============================] - 1s 15us/sample - loss: 0.7401 - acc: 0.7206\n",
      "Epoch 86/100\n",
      "60000/60000 [==============================] - 1s 15us/sample - loss: 0.7387 - acc: 0.7220\n",
      "Epoch 87/100\n",
      "60000/60000 [==============================] - 1s 15us/sample - loss: 0.7381 - acc: 0.7204\n",
      "Epoch 88/100\n",
      "60000/60000 [==============================] - 1s 15us/sample - loss: 0.7327 - acc: 0.7222\n",
      "Epoch 89/100\n",
      "60000/60000 [==============================] - 1s 15us/sample - loss: 0.7270 - acc: 0.7236\n",
      "Epoch 90/100\n",
      "60000/60000 [==============================] - 1s 15us/sample - loss: 0.7277 - acc: 0.7235\n",
      "Epoch 91/100\n",
      "60000/60000 [==============================] - 1s 14us/sample - loss: 0.7327 - acc: 0.7204\n",
      "Epoch 92/100\n",
      "60000/60000 [==============================] - 1s 15us/sample - loss: 0.7293 - acc: 0.7209\n",
      "Epoch 93/100\n",
      "60000/60000 [==============================] - 1s 16us/sample - loss: 0.7188 - acc: 0.7250\n",
      "Epoch 94/100\n",
      "60000/60000 [==============================] - 1s 15us/sample - loss: 0.7216 - acc: 0.7196\n",
      "Epoch 95/100\n",
      "60000/60000 [==============================] - 1s 15us/sample - loss: 0.7219 - acc: 0.7209\n",
      "Epoch 96/100\n",
      "60000/60000 [==============================] - 1s 15us/sample - loss: 0.7086 - acc: 0.7265\n",
      "Epoch 97/100\n",
      "60000/60000 [==============================] - 1s 15us/sample - loss: 0.7020 - acc: 0.7333\n",
      "Epoch 98/100\n",
      "60000/60000 [==============================] - 1s 15us/sample - loss: 0.7058 - acc: 0.7304\n",
      "Epoch 99/100\n",
      "60000/60000 [==============================] - 1s 15us/sample - loss: 0.7189 - acc: 0.7288\n",
      "Epoch 100/100\n",
      "60000/60000 [==============================] - 1s 14us/sample - loss: 0.7089 - acc: 0.7301\n"
     ]
    }
   ],
   "source": [
    "history = model.fit(X_train, y_train, batch_size = 200, epochs = 100, verbose = 1)"
   ]
  },
  {
   "cell_type": "code",
   "execution_count": 0,
   "metadata": {
    "colab": {
     "base_uri": "https://localhost:8080/",
     "height": 54
    },
    "colab_type": "code",
    "executionInfo": {
     "elapsed": 2258,
     "status": "ok",
     "timestamp": 1574343027837,
     "user": {
      "displayName": "Suryansh Sharma",
      "photoUrl": "https://lh3.googleusercontent.com/a-/AAuE7mBy1CGO0PDyRG1nsJ6rDaUXBg-h18OkEJ86htszrw=s64",
      "userId": "03232072030227591914"
     },
     "user_tz": -330
    },
    "id": "Rhl0xqgR62ei",
    "outputId": "559121de-a55b-4c76-bf55-5a51c3b35372"
   },
   "outputs": [
    {
     "name": "stdout",
     "output_type": "stream",
     "text": [
      "\r",
      "10000/1 [================================================================================================================================================================================================================================================================================================================================================================================================================================================================================================================================================================================================================================================================================================================================================================================================================================================================================================================================================================================================================================================================================================================================================================================================================================================================================================================================================================================================================================================================================================================================================================================================================================================================================================================================================================================================================================================================================================================================================================================================================================================================================================================================================================================================================================================================================================================================================================================================================================================================================================================================================================================================================================================================================================================================================================================================================================================================================================================================================================================================================================================================================================================================================================================================================================================================================================================================================================================================================================================================================================================================================================================================================================================================================================================================================================================================================================================================================================================================================================================================================================================================================================================================================================================================================================================================================================================================================================================================================================================================================================================================================================================================================================================================================================================================================================================================================================================================================================================================================================================================================================================================================================================================================================================================================================================================================================================================================================================================================================================================================================================================================================================================================================================================================================================================================================================================================================================================================================================================================================================================================================================================================================================================================================================================================================================================================================================================================================================================================================================================================================================================================================================================================================================================================================================================================================================================================================================================================================================================================================================================================================================================================================================================================================================================================================================================================================================================================================================================================================================================================================================================================================================================================================================================================================================================================================================================================================================================================================================================================================================================================================================================================================================================================================================================================================================================================================================================================================================================================================================================================================================================================================================================================================================================================================================================================================================================================================================================================================================================================================================================================================================================================================================================================================================================================================================================================================================================================================================================================================================================================================================================================================================================================================================================================================================================================================================================================================================================================================================================================================================================================================================================================================================================================================================================================================================================================================================================================================================================================================================================================================================================================================================================================================================================================================================================================================================================================================================================================================================================================================================================================================================================================================================================================================================================================================================================================================================================================================================================================================================================================================================================================================================================================================================================================================================================================================================================================================================================================================================================================================================================================================================================================================================================================================================================================================================================================================================================================================================================================================================================================================================================================================================================================================================================================================================================================================================================================================================================================================================================================================================================================================================================================================================================================================================================================================================================================================================================================================================================================================================================================================================================================================================================================================================================================================================================================================================================================================================================================================================================================================================================================================================================================================================================================================================================================================================================================================================================================================================================================================================================================================================================================================================================================================================================================================================================================================================================================================================================================================================================================================================================================================================================================================================================================================================================================================================================================================================================================================================================================================================================================================================================================================================================================================================================================================================================================================================================================================================================================================================================================================================================================================================================================================================================================================================================================================================================================================================================================================================================================================================================================================================================================================================================================================================================================================================================================================================================================================================================================================================================================================================================================================================================================================================================================================================================================================================================================================================================================================================================================================================================================================================================================================================================================================================================================================================================================================================================================================================================================================================================================================================================================================================================================================================================================================================================================================================================================================================================================================================================================================================================================================================================================================================================================================================================================================================================================================================================================================================================================================================================================================================================================================================================================================================================================================================================================================================================================================================================================================================================================================================================================================================================================================================================================================================================================================================================================================================================================================================================================================================================================================================================================================================================================================================================================================================================================================================================================================================================================================================================================================================================================================================================================================================================================================================================================================================================================================================================================================================================================================================================================================================================================================================================================================================================================================================================================================================================================================================================================================================================================================================================================================================================================================================================================================================================================================================================================================================================================================================================================================================================================================================================================================================================================================================================================================================================================================================================================================================================================================================================================================================================================================================================================================================================================================================================================================================================================================================================================================================================================================================================================================================================================================================================================================================================================================================================================================================================================================================================================================================================================================================================================================================================================================================================================================================================================================================================================================================================================================================================================================================================================================================================================================================================================================================================================================================================================================================================================================================================================================================================================================================================================================================================================================================================================================================================================================================================================================================================================================================================================================================================================================================================================================================================================================================================================================================================================================================================================================================================================================================================================================================================================================================================================================================================================================================================================================================================================================================================================================================================================================================================================================================================================================================================================================================================================================================================================================================================================================================================================================================================================================================================================================================================================================================================================================================================================================================================================================================================================================================================================================================================================================================================================================================================================================================================================================================================================================================================================================================================================================================================================================================================================================================================================================================================================================================================================================================================================================================================================================================================================================================================================================================================================================================================================================================================================================================================================================================================================================================================================================================================================================================================================================================================================================================================================================================================================================================================================================================================================================================================================================================================================================================================================================================================================================================================================================================================================================================================================================================================================================================================================================================================================================================================================================================================================================================================================================================================================================================================================================================================================================================================================================================================================================================================================================================================================================================================================================================================================================================================================================================================================================================================================================================================================================================================================================================================================================================================================================================================================================================================================================================================================================================================================================================================================================================================================================================================================================================================================================================================================================================================================================================================================================================================================================================================================================================================================================================================================================================================================================================================================================================================================================================================================================================================================================================================================================================================================================================================================================================================================================================================================================================================================================================================================================================================================================================================================================================================================================================================================================================================================================================================================================================================================================================================================================================================================================================================================================================================================================================================================================================================================================================================================================================================================================================================================================================================================================================================================================================================================================================================================================================================================================================================================================================================================================================================================================================================================================================================================================================================================================================================================================================================================================================================================================================================================================================================================================================================================================================================================================================================================================================================================================================================================================================================================================================================================================================================================================================================================================================================================================================================================================================================================================================================================================================================================================================================================================================================================================================================================================================================================================================================================================================================================================================================================================================================================================================================================================================================================================================================================================================================================================================================================================================================================================================================================================================================================================================================================================================================================================================================================================================================================================================================================================================================================================================================================================================================================================================================================================================================================================================================================================================================================================================================================================================================================================================================================================================================================================================================================================================================================================================================================================================================================================================================================================================================================================================================================================================================================================================================================================================================================================================================================================================================================================================================================================================================================================================================================================================================================================================================================================================================================================================================================================================================================================================================================================================================================================================================================================================================================================================================================================================================================================================================================================================================================================================================================================================================================================================================================================================================================================================================================================================================================================================================================================================================================================================================================================================================================================================================================================================================================================================================================================================================================================================================================================================================================================================================================================================================================================================================================================================================================================================================================================================================================================================================================================================================================================================================================================================================================================================================================================================================================================================================================================================================================================================================================================================================================================================================================================================================================================================================================================================================================================================================================================================================================================================================================================================================================================================================================================================================================================================================================================================================================================================================================================================================================================================================================================================================================================================================================================================================================================================================================================================================================================================================================================================================================================================================================================================================================================================================================================================================================================================================================================================================================================================================================================================================================================================================================================================================================================================================================================================================================================================================================================================================================================================================================================================================================================================================================================================================================================================================================================================================================================================================================================================================================================================================================================================================================================================================================================================================================================================================================================================================================================================================================================================================================================================================================================================================================================================================================================================================================================================================================================================================================================================================================================================================================================================================================================================================================================================================================================================================================================================================================================================================================================================================================================================================================================================================================================================================================================================================================================================================================================================================================================================================================================================================================================================================================================================================================================================================================================================================================================================================================================================================================================================================================================================================================================================================================================================================================================================================================================================================================================================================================================================================================================================================================================================================================================================================================================================================================================================================================================================================================================================================================================================================================================================================================================================================================================================================================================================================================================================================================================================================================================================================================================================================================================================================================================================================================================================================================================================================================================================================================================================================================================================================================================================================================================================================================================================================================================================================================================================================================================================================================================================================================================================================================================================================================================================================================================================================================================================================================================================================================================================================================================================================================================================================================================================================================================================================================================================================================================================================================================================================================================================================================================================================================================================================================================================================================================================================================================================================================================================================================================================================================================================================================================================================================================================================================================================================================================================================================================================================================================================================================================================================================================================================================================================================================================================================================================================================================================================================================================================================================================================================================================================================================================================================================================================================================================================================================================================================================================================================================================================================================================================================================================================================================================================================================================================================================================================================================================================================================================================================================================================================================================================================================================================================================================================================================================================================================================================================================================================================================================================================================================================================================================================================================================================================================================================================================================================================================================================================================================================================================================================================================================================================================================================================================================================================================================================================================================================================================================================================================================================================================================================================================================================================================================================================================================================================================================================================================================================================================================================================================================================================================================================================================================================================================================================================================================================================================================================================================================================================================================================================================================================================================================================================================================================================================================================================================================================================================================================================================================================================================================================================================================================================================================================================================================================================================================================================================================================================================================================================================================================================================================================================================================================================================================================================================================================================================================================================================================================================================================================================================================================================================================================================================================================================================================================================================================================================================================================================================================================================================================================================================================================================================================================================================================================================================================================================================================================================================================================================================================================================================================================================================================================================================================================================================================================================================================================================================================================================================================================================================================================================================================================================================================================================================================================================================================================================================================================================================================================================================================================================================================================================================================================================================================================================================================================================================================================================================================================================================================================================================================================================================================================================================================================================================================================================================================================================================================================================================================================================================================================================================================================================================================================================================================================================================================================================================================================================================================================================================================================================================================================================================================================================================================================================================================================================================================================================================================================================================================================================================================================================================================================================================================================================================================================================================================================================================================================================================================================================================================================================================================================================================================================================================================================================================================================================================================================================================================================================================================================================================================================================================================================================================================================================================================================================================================================================================================================================================================================================================================================================================================================================================================================================================================================================================================================================================================================================================================================================================================================================================================================================================================================================================================================================================================================================================================================================================================================================================================================================================================================================================================================================================================================================================================================================================================================================================================================================================================================================================================================================================================================================================================================================================================================================================================================================================================================================================================================================================================================================================================================================================================================================================================================================================================================================================================================================================================================================================================================================================================================================================================================================================================================================================================================================================================================================================================================================================================================================================================================================================================================================================================================================================================================================================================================================================================================================================================================================================================================================================================================================================================================================================================================================================================================================================================================================================================================================================================================================================================================================================================================================================================================================================================================================================================================================================================================================================================================================================================================================================================================================================================================================================================================================================================================================================================================================================================================================================================================================================================================================================================================================================================================================================================================================================================================================================================================================================================================================================================================================================================================================================================================================================================================================================================================================================================================================================================================================================================================================================================================================================================================================================================================================================================================================================================================================================================================================================================================================================================================================================================================================================================================================================================================================================================================================================================================================================================================================================================================================================================================================================================================================================================================================================================================================================================================================================================================================================================================================================================================================================================================================================================================================================================================================================================================================================================================================================================================================================================================================================================================================================================================================================================================================================================================================================================================================================================================================================================================================================================================================================================================================================================================================================================================================================================================================================================================================================================================================================================================================================================================================================================================================================================================================================================================================================================================================================================================================================================================================================================================================================================================================================================================================================================================================================================================================================================================================================================================================================================================================================================================================================================================================================================================================================================================================================================================================================================================================================================================================================================================================================================================================================================================================================================================================================================================================================================================================================================================================================================================================================================================================================================================================================================================================================================================================================================================================================================================================================================================================================================================================================================================================================================================================================================================================================================================================================================================================================================================================================================================================================================================================================================================================================================================================================================================================================================================================================================================================================================================================================================================================================================================================================================================================================================================================================================================================================================================================================================================================================================================================================================================================================================================================================================================================================================================================================================================================================================================================================================================================================================================================================================================================================================================================================================================================================================================================================================================================================================================================================================================================================================================================================================================================================================================================================================================================================================================================================================================================================================================================================================================================================================================================================================================================================================================================================================================================================================================================================================================================================================================================================================================================================================================================================================================================================================================================================================================================================================================================================================================================================================================================================================================================================================================================================================================================================================================================================================================================================================================================================================================================================================================================================================================================================================================================================================================================================================================================================================================================================================================================================================================================================================================================================================================================================================================================================================================================================================================================================================================================================================================================================================================================================================================================================================================================================================================================================================================================================================================================================================================================================================================================================================================================================================================================================================================================================================================================================================================================================================================================================================================================================================================================================================================================================================================================================================================================================================================================================================================================================================================================================================================================================================================================================================================================================================================================================================================================================================================================================================================================================================================================================================================================================================================================================================================================================================================================================================================================================================================================================================================================================================================================================================================================================================================================================================================================================================================================================================================================================================================================================================================================================================================================================================================================================================================================================================================================================================================================================================================================================================================================================================================================================================================================================================================================================================================================================================================================================================================================================================================================================================================================================================================================================================================================================================================================================================================================================================================================================================================================================================================================================================================================================================================================================================================================================================================================================================================================================================================================================================================================================================================================================================================================================================================================================================================================================================================================================================================================================================================================================================================================================================================================================================================================================================================================================================================================================================================================================================================================================================================================================================================================================================================================================================================================================================================================================================================================================================================================================================================================================================================================================================================================================================================================================================================================================================================================================================================================================================================================================================================================================================================================================================================================================================================================================================================================================================================================================================================================================================================================================================================================================================================================================================================================================================================================================================================================================================================================================================================================================================================================================================================================================================================================================================================================================================================================================================================================================================================================================================================================================================================================================================================================================================================================================================================================================================================================================================================================================================================================================================================================================================================================================================================================================================================================================================================================================================================================================================================================================================================================================================================================================================================================================================================================================================================================================================================================================================================================================================================================================================================================================================================================================================================================================================================================================================================================================================================================================================================================================================================================================================================================================================================================================================================================================================================================================================================================================================================================================================================================================================================================================================================================================================================================================================================================================================================================================================================================================================================================================================================================================================================================================================================================================================================================================================================================================================================================================================================================================================================================================================================================================================================================================================================================================================================================================================================================================================================================================================================================================================================================================================================================================================================================================================================================================================================================================================================================================================================================================================================================================================================================================================================================================================================================================================================================================================================================================================================================================================================================================================================================================================================================================================================================================================================================================================================================================================================================================================================================================================================================================================================================================================================================================================================================================================================================================================================================================================================================================================================================================================================================================================================================================================================================================================================================================================================================================================================================================================================================================================================================================================================================================================================================================================================================================================================================================================================================================================================================================================================================================================================================================================================================================================================================================================================================================================================================================================================================================================================================================================================================================================================================================================================================================================================================================================================================================================================================================================================================================================================================================================================================================================================================================================================================================================================================================================================================================================================================================================================================================================================================================================================================================================================================================================================================================================================================================================================================================================================================================================================================================================================================================================================================================================================================================================================================================================================================================================================================================================================================================================================================================================================================================================================================================================================================================================================================================================================================================================================================================================================================================================================================================================================================================================================================================================================================================================================================================================================================================================================================================================================================================================================================================================================================================================================================================================================================================================================================================================================================================================================================================================================================================================================================================================================================================================================================================================================================================================================================================================================================================================================================================================================================================================================================================================================================================================================================================================================================================================================================================================================================================================================================================================================================================================================================================================================================================================================================================================================================================================================================================================================================================================================================================================================================================================================================================================================================================================================================================================================================================================================================================================================================================================================================================================================================================================================================================================================================================================================================================================================================================================================================================================================================================================================================================================================================================================================================================================================================================================================================================================================================================================================================================================================================================================================================================================================================================================================================================================================================================================================================================================================================================================================================================================================================================================================================================================================================================================================================================================================================================================================================================================================================================================================================================================================================================================================================================================================================================================================================================================================================================================================================================================================================================================================================================================================================================================================================================================================================================================================================================================================================================================================================================================================================================================================================================================================================================================================================================================================================================================================================================================================================================================================================================================================================================================================================================================================================================================================================================================================================================================================================================================================================================================================================================================================================================================================================================================================================================================================================================================================================================================================================================================================================================================================================================================================================================================================================================================================================================================================================================================================================================================================================================================================================================================================================================================================================================================================================================================================================================================================================================================================================================================================================================================================================================================================================================================================================================================================================================================================================================================================================================================================================================================================================================================================================================================================================================================================================================================================================================================================================================================================================================================================================================================================================================================================================================================================================================================================================================================================================================================================================================================================================================================================================================================================================================================================================================================================================================================================================================================================================================================================================================================================================================================================================================================================================================================================================================================================================================================================================================================================================================================================================================================================================================================================================================================================================================================================================================================================================================================================================================================================================================================================================================================================================================================================================================================================================================================================================================================================================================================================================================================================================================================================================================================================================================================================================================================================================================================================================================================================================================================================================================================================================================================================================================================================================================================================================================================================================================================================================================================================================================================================================================================================================================================================================================================================================================================================================================================================================================================================================================================================================================================================================================================================================================================================================================================================================================================================================================================================================================================================================================================================================================================================================================================================================================================================================================================================================================================================================================================================================================================================================================================================================================================================================================================================================================================================================================================================================================================================================================================================================================================================================================================================================================================================================================================================================================================================================================================================================================================================================================================================================================================================================================================================================================================================================================================================================================================================================================================================================================================================================================================================================================================================================================================================================================================================================================================================================================================================================================================================================================================================================================================================================================================================================================================================================================================================================================================================================================================================================================================================================================================================================================================================================================================================================================================================================================================================================================================================================================================================================================================================================================================================================================================================================================================================================================================================================================================================================================================================================================================================================================================================================================================================================================================================================================================================================================================================================================================================================================================================================================================================================================================================================================================================================================================================================================================================================================================================================================================================================================================================================================================================================================================================================================================================================================================================================================================================================================================================================================================================================================================================================================================================================================================================================================================================================================================================================================================================================================================================================================================================================================================================================================================================================================================================================================================================================================================================================================================================================================================================================================================================================================================================================================================================================================================================================================================================================================================================================================================================================================================================================================================================================================================================================================================================================================================================================================================================================================================================================================================================================================================================================================================================================================================================================================================================================================================================================================================================================================================================================================================================================================================================================================================================================================================================================================================================================================================================================================================================================================================================================================================================================================================================================================================================================================================================================================================================================================================================================================================================================================================================================================================================================================================================================================================================================================================================================================================================================================================================================================================================================================================================================================================================================================================================================================================================================================================================================================================================================================================================================================================================================================================================================================================================================================================================================================================================================================================================================================================================================================================================================================================================================================================================================================================================================================================================================================================================================================================================================================================================================================================================================================================================================================================================================================================================================================================================================================================================================================================================================================================================================================================================================================================================================================================================================================================================================================================================================================================================================================================================================================================================================================================================================================================================================================================================================================================================================================================================================================================================================================================================================================================================================================================================================================================================================================================================================================================================================================================================================================================================================================================================================================================================================================================================================================================================================================================================================================================================================================================================================================================================================================================================================================================================================================================================================================================================================================================================================================================================================================================================================================================================================================================================================================================================================================================================================================================================================================================================================================================================================================================================================================================================================================================================================================================================================================================================================================================================================================================================================================================================================================================================================================================================================================================================================================================================================================================================================================================================================================================================================================================================================================================================================================================================================================================================================================================================================================================================================================================================================================================================================================================================================================================================================================================================================================================================================================================================================================================================================================================================================================================================================================================================================================================================================================================================================================================================================================================================================================================================================================================================================================================================================================================================================================================================================================================================================================================================================================================================================================================================================================================================================================================================================================================================================================================================================================================================================================================================================================================================================================================================================================================================================================================================================================================================================================================================================================================================================================================================================================================================================================================================================================================================================================================================================================================================================================================================================================================================================================================================================================================================================================================================================================================================================================================================================================================================================================================================================================================================================================================================================================================================================================================================================================================================================================================================================================================================================================================================================================================================================================================================================================================================================================================================================================================================================================================================================================================================================================================================================================================================================================================================================================================================================================================================================================================================================================================================================================================================================================================================================================================================================================================================================================================================================================================================================================================================================================================================================================================================================================================================================================================================================================================================================================================================================================================================================================================================================================================================================================================================================================================================================================================================================================================================================================================================================================================================================================================================================================================================================================================================================================================================================================================================================================================================================================================================================================================================================================================================================================================================================================================================================================================================================================================================================================================================================================================================================================================================================================================================================================================================================================================================================================================================================================================================================================================================================================================================================================================================================================================================================================================================================================================================================================================================================================================================================================================================================================================================================================================================================================================================================================================================================================================================================================================================================================================================================================================================================================================================================================================================================================================================================================================================================================================================================================================================================================================================================================================================================================================================================================================================================================================================================================================================================================================================================================================================================================================================================================================================================================================================================================================================================================================================================================================================================================================================================================================================================================================================================================================================================================================================================================================================================================================================================================================================================================================================================================================================================================================================================================================================================================================================================================================================================================================================================================================================================================================================================================================================================================================================================================================================================================================================================================================================================================================================================================================================================================================================================================================================================================================================================================================================================================================================================================================================================================================================================================================================================================================================================================================================================================================================================================================================================================================================================================================================================================================================================================================================================================================================================================================================================================================================================================================================================================================================================================================================================================================================================================================================================================================================================================================================================================================================================================================================================================================================================================================================================================================================================================================================================================================================================================================================================================================================================================================================================================================================================================================================================================================================================================================================================================================================================================================================================================================================================================================================================================================================================================================================================================================================================================================================================================================================================================================================================================================================================================================================================================================================================================================================================================================================================================================================================================================================================================================================================================================================================================================================================================================================================================================================================================================================================================================================================================================================================================================================================================================================================================================================================================================================================================================================================================================================================================================================================================================================================================================================================================================================================================================================================================================================================================================================================================================================================================================================================================================================================================================================================================================================================================================================================================================================================================================================================================================================================================================================================================================================================================================================================================================================================================================================================================================================================================================================================================================================================================================================================================================================================================================================================================================================================================================================================================================================================================================================================================================================================================================================================================================================================================================================================================================================================================================================================================================================================================================================================================================================================================================================================================================================================================================================================================================================================================================================================================================================================================================================================================================================================================================================================================================================================================================================================================================================================================================================================================================================================================================================================================================================================================================================================================================================================================================================================================================================================================================================================================================================================================================================================================================================================================================================================================================================================================================================================================================================================================================================================================================================================================================================================================================================================================================================================================================================================================================================================================================================================================================================================================================================================================================================================================================================================================================================================================================================================================================================================================================================================================================================================================================================================================================================================================================================================================================================================================================================================================================================================================================================================================================================================================================================================================================================================================================================================================================================================================================================================================================================================================================================================================================================================================================================================================================================================================================================================================================================================================================================================================================================================================================================================================================================================================================================================================================================================================================================================================================================================================================================================================================================================================================================================================================================================================================================================================================================================================================================================================================================================================================================================================================================================================================================================================================================================================================================================================================================================================================================================================================================================================================================================================================================================================================================================================================================================================================================================================================================================================================================================================================================================================================================================================================================================================================================================================================================================================================================================================================================================================================================================================================================================================================================================================================================================================================================================================================================================================================================================================================================================================================================================================================================================================================================================================================================================================================================================================================================================================================================================================================================================================================================================================================================================================================================================================================================================================================================================================================================================================================================================================================================================================================================================================================================================================================================================================================================================================================================================================================================================================================================================================================================================================================================================================================================================================================================================================================================================================================================================================================================================================================================================================================================================================================================================================================================================================================================================================================================================================================================================================================================================================================================================================================================================================================================================================================================================================================================================================================================================================================================================================================================================================================================================================================================================================================================================================================================================================================================================================================================================================================================================================================================================================================================================================================================================================================================================================================================================================================================================================================================================================================================================================================================================================================================================================================================================================================================================================================================================================================================================================================================================================================================================================================================================================================================================================================================================================================================================================================================================================================================================================================================================================================================================================================================================================================================================================================================================================================================================================================================================================================================================================================================================================================================================================================================================================================================================================================================================================================================================================================================================================================================================================================================================================================================================================================================================================================================================================================================================================================================================================================================================================================================================================================================================================================================================================================================================================================================================================================================================================================================================================================================================================================================================================================================================================================================================================================================================================================================================================================================================================================================================================================================================================================================================================================================================================================================================================================================================================================================================================================================================================================================================================================================================================================================================================================================================================================================================================================================================================================================================================================================================================================================================================================================================================================================================================================================================================================================================================================================================================================================================================================================================================================================================================================================================================================================================================================================================================================================================================================================================================================================================================================================================================================================================================================================================================================================================================================================================================================================================================================================================================================================================================================================================================================================================================================================================================================================================================================================================================================================================================================================================================================================================================================================================================================================================================================================================================================================================================================================================================================================================================================================================================================================================================================================================================================================================================================================================================================================================================================================================================================================================================================================================================================================================================================================================================================================================================================================================================================================================================================================================================================================================================================================================================================================================================================================================================================================================================================================================================================================================================================================================================================================================================================================================================================================================================================================================================================================================================================================================================================================================================================================================================================================================================================================================================================================================================================================================================================================================================================================================================================================================================================================================================================================================================================================================================================================================================================================================================================================================================================================================================================================================================================================================================================================================================================================================================================================================================================================================================================================================================================================================================================================================================================================================================================================================================================================================================================================================================================================================================================================================================================================================================================================================================================================================================================================================================================================================================================================================================================================================================================================================================================================================================================================================================================================================================================================================================================================================================================================================================================================================================================================================================================================================================================================================================================================================================================================================================================================================================================================================================================================================================================================================================================================================================================================================================================================================================================================================================================================================================================================================================================================================================================================================================================================================================================================================================================================================================================================================================================================================================================================================================================================================================================================================================================================================================================================================================================================================================================================================================================================================================================================================================================================================================================================================================================================================================================================================================================================================================================================================================================================================================================================================================================================================================================================================================================================================================================================================================================================================================================================================================================================================================================================================================================================================================================================================================================================================================================================================================================================================================================================================================================================================================================================================================================================================================================================================================================================================================================================================================================================================================================================================================================================================================================================================================================================================================================================================================================================================================================================================================================================================================================================================================================================================================================================================================================================================================================================================================================================================================================================================================================================================================================================================================================================================================================================================================================================================================================================================================================================================================================================================================================================================================================================================================================================================================================================================================================================================================================================================================================================================================================================================================================================================================================================================================================================================================================================================================================================================================================================================================================================================================================================================================================================================================================================================================================================================================================================================================================================================================================================================================================================================================================================================================================================================================================================================================================================================================================================================================================================================================================================================================================================================================================================================================================================================================================================================================================================================================================================================================================================================================================================================================================================================================================================================================================================================================================================================================================================================================================================================================================================================================================================================================================================================================================================================================================================================================================================================================================================================================================================================================================================================================================================================================================================================================================================================================================================================================================================================================================================================================================================================================================================================================================================================================================================================================================================================================================================================================================================================================================================================================================================================================================================================================================================================================================================================================================================================================================================================================================================================================================================================================================================================================================================================================================================================================================================================================================================================================================================================================================================================================================================================================================================================================================================================================================================================================================================================================================================================================================================================================================================================================================================================================================================================================================================================================================================================================================================================================================================================================================================================================================================================================================================================================================================================================================================================================================================================================================================================================================================================================================================================================================================================================================================================================================================================================================================================================================================================================================================================================================================================================================================================================================================================================================================================================================================================================================================================================================================================================================================================================================================================================================================================================================================================================================================================================================================================================================================================================================================================================================================================================================================================================================================================================================================================================================================================================================================================================================================================================================================================================================================================================================================================================================================================================================================================================================================================================================================================================================================================================================================================================================================================================================================================================================================================================================================================================================================================================================================================================================================================================================================================================================================================================================================================================================================================================================================================================================================================================================================================================================================================================================================================================================================================================================================================================================================================================================================================================================================================================================================================================================================================================================================================================================================================================================================================================================================================================================================================================================================================================================================================================================================================================================================================================================================================================================================================================================================================================================================================================================================================================================================================================================================================================================================================================================================================================================================================================================================================================================================================================================================================================================================================================================================================================================================================================================================================================================================================================================================================================================================================================================================================================================================================================================================================================================================================================================================================================================================================================================================================================================================================================================================================================================================================================================================================================================================================================================================================================================================================================================================================================================================================================================================================================================================================================================================================================================================================================================================================================================================================================================================================================================================================================================================================================================================================================================================================================================================================================================================================================================================================================================================================================================================================================================================================================================================================================================================================================================================================================================================================================================================================================================================================================================================================================================================================================================================================================================================================================================================================================================================================================================================================================================================================================================================================================================================================================================================================================================================================================================================================================================================================================================================================================================================================================================================================================================================================================================================================================================================================================================================================================================================================================================================================================================================================================================================================================================================================================================================================================================================================================================================================================================================================================================================================================================================================================================================================================================================================================================================================================================================================================================================================================================================================================================================================================================================================================================================================================================================================================================================================================================================================================================================================================================================================================================================================================================================================================================================================================================================================================================================================================================================================================================================================================================================================================================================================================================================================================================================================================================================================================================================================================================================================================================================================================================================================================================================================================================================================================================================================================================================================================================================================================================================================================================================================================================================================================================================================================================================================================================================================================================================================================================================================================================================================================================================================================================================================================================================================================================================================================================================================================================================================================================================================================================================================================================================================================================================================================================================================================================================================================================================================================================================================================================================================================================================================================================================================================================================================================================================================================================================================================================================================================================================================================================================================================================================================================================================================================================================================================================================================================================================================================================================================================================================================================================================================================================================================================================================================================================================================================================================================================================================================================================================================================================================================================================================================================================================================================================================================================================================================================================================================================================================================================================================================================================================================================================================================================================================================================================================================================================================================================================================================================================================================================================================================================================================================================================================================================================================================================================================================================================================================================================================================================================================================================================================================================================================================================================================================================================================================================================================================================================================================================================================================================================================================================================================================================================================================================================================================================================================================================================================================================================================================================================================================================================================================================================================================================================================================================================================================================================================================================================================================================================================================================================================================================================================================================================================================================================================================================================================================================================================================================================================================================================================================================================================================================================================================================================================================================================================================================================================================================================================================================================================================================================================================================================================================================================================================================================================================================================================================================================================================================================================================================================================================================================================================================================================================================================================================================================================================================================================================================================================================================================================================================================================================================================================================================================================================================================================================================================================================================================================================================================================================================================================================================================================================================================================================================================================================================================================================================================================================================================================================================================================================================================================================================================================================================================================================================================================================================================================================================================================================================================================================================================================================================================================================================================================================================================================================================================================================================================================================================================================================================================================================================================================================================================================================================================================================================================================================================================================================================================================================================================================================================================================================================================================================================================================================================================================================================================================================================================================================================================================================================================================================================================================================================================================================================================================================================================================================================================================================================================================================================================================================================================================================================================================================================================================================================================================================================================================================================================================================================================================================================================================================================================================================================================================================================================================================================================================================================================================================================================================================================================================================================================================================================================================================================================================================================================================================================================================================================================================================================================================================================================================================================================================================================================================================================================================================================================================================================================================================================================================================================================================================================================================================================================================================================================================================================================================================================================================================================================================================================================================================================================================================================================================================================================================================================================================================================================================================================================================================================================================================================================================================================================================================================================================================================================================================================================================================================================================================================================================================================================================================================================================================================================================================================================================================================================================================================================================================================================================================================================================================================================================================================================================================================================================================================================================================================================================================================================================================================================================================================================================================================================================================================================================================================================================================================================================================================================================================================================================================================================================================================================================================================================================================================================================================================================================================================================================================================================================================================================================================================================================================================================================================================================================================================================================================================================================================================================================================================================================================================================================================================================================================================================================================================================================================================================================================================================================================================================================================================================================================================================================================================================================================================================================================================================================================================================================================================================================================================================================================================================================================================================================================================================================================================================================================================================================================================================================================================================================================================================================================================================================================================================================================================================================================================================================================================================================================================================================================================================================================================================================================================================================================================================================================================================================================================================================================================================================================================================================================================================================================================================================================================================================================================================================================================================================================================================================================================================================================================================================================================================================================================================================================================================================================================================================================================================================================================================================================================================================================================================================================================================================================================================================================================================================================================================================================================================================================================================================================================================================================================================================================================================================================================================================================================================================================================================================================================================================================================================================================================================================================================================================================================================================================================================================================================================================================================================================================================================================================================================================================================================================================================================================================================================================================================================================================================================================================================================================================================================================================================================================================================================================================================================================================================================================================================================================================================================================================================================================================================================================================================================================================================================================================================================================================================================================================================================================================================================================================================================================================================================================================================================================================================================================================================================================================================================================================================================================================================================================================================================================================================================================================================================================================================================================================================================================================================================================================================================================================================================================================================================================================================================================================================================================================================================================================================================================================================================================================================================================================================================================================================================================================================================================================================================================================================================================================================================================================================================================================================================================================================================================================================================================================================================================================================================================================================================================================================================================================================================================================================================================================================================================================================================================================================================================================================================================================================================================================================================================================================================================================================================================================================================================================================================================================================================================================================================================================================================================================================================================================================================================================================================================================================================================================================================================================================================================================================================================================================================================================================================================================================================================================================================================================================================================================================================================================================================================================================================================================================================================================================================================================================================================================================================================================================================================================================================================================================================================================================================================================================================================================================================================================================================================================================================================================================================================================================================================================================================================================================================================================================================================================================================================================================================================================================================================================================================================================================================================================================================================================================================================================================================================================================================================================================================================================================================================================================================================================================================================================================================================================================================================================================================================================================================================================================================================================================================================================================================================================================================================================================================================================================================================================================================================================================================================================================================================================================================================================================================================================================================================================================================================================================================================================================================================================================================================================================================================================================================================================================================================================================================================================================================================================================================================================================================================================================================================================================================================================================================================================================================================================================================================================================================================================================================================================================================================================================================================================================================================================================================================================================================================================================================================================================================================================================================================================================================================================================================================================================================================================================================================================================================================================================================================================================================================================================================================================================================================================================================================================================================================================================================================================================================================================================================================================================================================================================================================================================================================================================================================================================================================================================================================================================================================================================================================================================================================================================================================================================================================================================================================================================================================================================================================================================================================================================================================================================================================================================================================================================================================================================================================================================================================================================================================================================================================================================================================================================================================================================================================================================================================================================================================================================================================================================================================================================================================================================================================================================================================================================================================================================================================================================================================================================================================================================================================================================================================================================================================================================================================================================================================================================================================================================================================================================================================================================================================================================================================================================================================================================================================================================================================================================================================================================================================================================================================================================================================================================================================================================================================================================================================================================================================================================================================================================================================================================================================================================================================================================================================================================================================================================================================================================================================================================================================================================================================================================================================================================================================================================================================================================================================================================================================================================================================================================================================================================================================================================================================================================================================================================================================================================================================================================================================================================================================================================================================================================================================================================================================================================================================================================================================================================================================================================================================================================================================================================================================================================================================================================================================================================================================================================================================================================================================================================================================================================================================================================================================================================================================================================================================================================================================================================================================================================================================================================================================================================================================================================================================================================================================================================================================================================================================================================================================================================================================================================================================================================================================================================================================================================================================================================================================================================================================================================================================================================================================================================================================================================================================================================================================================================================================================================================================================================================================================================================================================================================================================================================================================================================================================================================================================================================================================================================================================================================================================================================================================================================================================================================================================================================================================================================================================================================================================================================================================================================================================================================================================================================================================================================================================================================================================================================================================================================================================================================================================================================================================================================================================================================================================================================================================================================================================================================================================================================================================================================================================================================================================================================================================================================================================================================================================================================================================================================================================================================================================================================================================================================================================================================================================================================================================================================================================================================================================================================================================================================================================================================================================================================================================================================================================================================================================================================================================================================================================================================================================================================================================================================================================================================================================================================================================================================================================================================================================================================================================================================================================================================================================================================================================================================================================================================================================================================================================================================================================================================================================================================================================================================================================================================================================================================================================================================================================================================================================================================================================================================================================================================================================================================================================================================================================================================================================================================================================================================================================================================================================================================================================================================================================================================================================================================================================================================================================================================================================================================================================================================================================================================================================================================================================================================================================================================================================================================================================================================================================================================================================================================================================================================================================================================================================================================================================================================================================================================================================================================================================================================================================================================================================================================================================================================================================================================================================================================================================================================================================================================================================================================================================================================================================================================================================================================================================================================================================================================================================================================================================================================================================================================================================================================================================================================================================================================================================================================================================================================================================================================================================================================================================================================================================================================================================================================================================================================================================================================================================================================================================================================================================================================================================================================================================================================================================================================================================================================================================================================================================================================================================================================================================================================================================================================================================================================================================================================================================================================================================================================================================================================================================================================================================================================================================================================================================================================================================================================================================================================================================================================================================================================================================================================================================================================================================================================================================================================================================================================================================================================================================================================================================================================================================================================================================================================================================================================================================================================================================================================================================================================================================================================================================================================================================================================================================================================================================================================================================================================================================================================================================================================================================================================================================================================================================================================================================================================================================================================================================================================================================================================================================================================================================================================================================================================================================================================================================================================================================================================================================================================================================================================================================================================================================================================================================================================================================================================================================================================================================================================================================================================================================================================================================================================================================================================================================================================================================================================================================================================================================================================================================================================================================================================================================================================================================================================================================================================================================================================================================================================================================================================================================================================================================================================================================================================================================================================================================================================================================================================================================================================================================================================================================================================================================================================================================================================================================================================================================================================================================================================================================================================================================================================================================================================================================================================================================================================================================================================================================================================================================================================================================================================================================================================================================================================================================================================================================================================================================================================================================================================================================================================================================================================================================================================================================================================================================================================================================================================================================================================================================================================================================================================================================================================================================================================================================================================================================================================================================================================================================================================================================================================================================================================================================================================================================================================================================================================================================================================================================================================================================================================================================================================================================================================================================================================================================================================================================================================================================================================================================================================================================================================================================================================================================================================================================================================================================================================================================================================================================================================================================================================================================================================================================================================================================================================================================================================================================================================================================================================================================================================================================================================================================================================================================================================================================================================================================================================================================================================================================================================================================================================================================================================================================================================================================================================================================================================================================================================================================================================================================================================================================================================================================================================================================================================================================================================================================================================================================================================================================================================================================================================================================================================================================================================================================================================================================================================================================================================================================================================================================================================================================================================================================================================================================================================================================================================================================================================================================================================================================================================================================================================================================================================================================================================================================================================================================================================================================================================================================================================================================================================================================================================================================================================================================================================================================================================================================================================================================================================================================================================================================================================================================================================================================================================================================================================================================================================================================================================================================================================================================================================================================================================================================================================================================================================================================================================================================================================================================================================================================================================================================================================================================================================================================================================================================================================================================================================================================================================================================================================================================================================================================================================================================================================================================================================================================================================================================================================================================================================================================================================================================================================================================================================================================================================================================================================================================================================================================================================================================================================================================================================================================================================================================================================================================================================================================================================================================================================================================================================================================================================================================================================================================================================================================================================================================================================================================================================================================================================================================================================================================================================================================================================================================================================================================================================================================================================================================================================================================================================================================================================================================================================================================================================================================================================================================================================================================================================================================================================================================================================================================================================================================================================================================================================================================================================================================================================================================================================================================================================================================================================================================================================================================================================================================================================================================================================================================================================================================================================================================================================================================================================================================================================================================================================================================================================================================================================================================================================================================================================================================================================================================================================================================================================================================================================================================================================================================================================================================================================================================================================================================================================================================================================================================================================================================================================================================================================================================================================================================================================================================================================================================================================================================================================================================================================================================================================================================================================================================================================================================================================================================================================================================================================================================================================================================================================================================================================================================================================================================================================================================================================================================================================================================================================================================================================================================================================================================================================================================================================================================================================================================================================================================================================================================================================================================================================================================================================================================================================================================================================================================================================================================================================================================================================================================================================================================================================================================================================================================================================================================================================================================================================================================================================================================================================================================================================================================================================================================================================================================================================================================================================================================================================================================================================================================================================================================================================================================================================================================================================================================================================================================================================================================================================================================================================================================================================================================================================================================================================================================================================================================================================================================================================================================================================================================================================================================================================================================================================================================================================================================================================================================================================================================================================================================================================================================================================================================================================================================================================================================================================================================================================================================================================================================================================================================================================================================================================================================================================================================================================================================================================================================================================================================================================================================================================================================================================================================================================================================================================================================================================================================================================================================================================================================================================================================================================================================================================================================================================================================================================================================================================================================================================================================================================================================================================================================================================================================================================================================================================================================================================================================================================================================================================================================================================================================================================================================================================================================================================================================================================================================================================================================================================================================================================================================================================================================================================================================================================================================================================================================================================================================================================================================================================================================================================================================================================================================================================================================================================================================================================================================================================================================================================================================================================================================================================================================================================================================================================================================================================================================================================================================================================================================================================================================================================================================================================================================================================================================================================================================================================================================================================================================================================================================================================================================================================================================================================================================================================================================================================================================================================================================================================================================================================================================================================================================================================================================================================================================================================================================================================================================================================================================================================================================================================================================================================================================================================================================================================================================================================================================================================================================================================================================================================================================================================================================================================================================================================================================================================================================================================================================================================================================================================================================================================================================================================================================================================================================================================================================================================================================================================================================================================================================================================================================================================================================================================================================================================================================================================================================================================================================================================================================================================================================================================================================================================================================================================================================================================================================================================================================================================================================================================================================================================================================================================================================================================================================================================================================================================================================================================================================================================================================================================================================================================================================================================================================================================================================================================================================================================================================================================================================================================================================================================================================================================================================================================================================================================================================================================================================================================================================================================================================================================================================================================================================================================================================================================================================================================================================================================================================================================================================================================================================================================================================================================================================================================================================================================================================================================================================================================================================================================================================================================================================================================================================================================================================================================================================================================================================================================================================================================================================================================================================================================================================================================================================================================================================================================================================================================================================================================================================================================================================================================================================================================================================================================================================================================================================================================================================================================================================================================================================================================================================================================================================================================================================================================================================================================================================================================================================================================================================================================================================================================================================================================================================================================================================================================================================================================================================================================================================================================================================================================================================================================================================================================================================================================================================================================================================================================================================================================================================================================================================================================================================================================================================================================================================================================================================================================================================================================================================================================================================================================================================================================================================================================================================================================================================================================================================================================================================================================================================================================================================================================================================================================================================================================================================================================================================================================================================================================================================================================================================================================================================================================================================================================================================================================================================================================================================================================================================================================================================================================================================================================================================================================================================================================================================================================================================================================================================================================================================================================================================================================================================================================================================================================================================================================================================================================================================================================================================================================================================================================================================================================================================================================================================================================================================================================================================================================================================================================================================================================================================================================================================================================================================================================================================================================================================================================================================================================================================================================================================================================================================================================================================================================================================================================================================================================================================================================================================================================================================================================================================================================================================================================================================================================================================================================================================================================================================================================================================================================================================================================================================================================================================================================================================================================================================================================================================================================================================================================================================================================================================================================================================================================================================================================================================================================================================================================================================================================================================================================================================================================================================================================================================================================================================================================================================================================================================================================================================================================================================================================================================================================================================================================================================================================================================================================================================================================================================================================================================================================================================================================================================================================================================================================================================================================================================================================================================================================================================================================================================================================================================================================================================================================================================================================================================================================================================================================================================================================================================================================================================================================================================================================================================================================================================================================================================================================================================================================================================================================================================================================================================================================================================================================================================================================================================================================================================================================================================================================================================================================================================================================================================================================================================================================================================================================================================================================================================================================================================================================================================================================================================================================================================================================================================================================================================================================================================================================================================================================================================================================================================================================================================================================================================================================================================================================================================================================================================================================================================================================================================================================================================================================================================================================================================================================================================================================================================================================================================================================================================================================================================================================================================================================================================================================================================================================================================================================================================================================================================================================================================================================================================================================================================================================================================================================================================================================================================================================================================================================================================================================================================================================================================================================================================================================================================================================================================================================================================================================================================================================================================================================================================================================================================================================================================================================================================================================================================================================================================================================================================================================================================================================================================================================================================================================================================================================================================================================================================================================================================================================================================================================================================================================================================================================================================================================================================================================================================================================================================================================================================================================================================================================================================================================================================================================================================================================================================================================================================================================================================================================================================================================================================================================================================================================================================================================================================================================================================================================================================================================================================================================================================================================================================================================================================================================================================================================================================================================================================================================================================================================================================================================================================================================================================================================================================================================================================================================================================================================================================================================================================================================================================================================================================================================================================================================================================================================================================================================================================================================================================================================================================================================================================================================================================================================================================================================================================================================================================================================================================================================================================================================================================================================================================================================================================================================================================================================================================================================================================================================================================================================================================================================================================================================================================================================================================================================================================================================================================================================================================================================================================================================================================================================================================================================================================================================================================================================================================================================================================================================================================================================================================================================================================================================================================================================================================================================================================================================================================================================================================================================================================================================================================================================================================================================================================================================================================================================================================================================================================================================================================================================================================================================================================================================================================================================================================================================================================================================================================================================================================================================================================================================================================================================================================================================================================================================================================================================================================================================================================================================================================================================================================================================================================================================================================================================================================================================================================================================================================================================================================================================================================================================================================================================================================================================================================================================================================================================================================================================================================================================================================================================================================================================================================================================================================================================================================================================================================================================================================================================================================================================================================================================================================================================================================================================================================================================================================================================================================================================================================================================================================================================================================================================================================================================================================================================================================================================================================================================================================================================================================================================================================================================================================================================================================================================================================================================================================================================================================================================================================================================================================================================================================================================================================================================================================================================================================================================================================================================================================================================================================================================================================================================================================================================================================================================================================================================================================================================================================================================================================================================================================================================================================================================================================================================================================================================================================================================================================================================================================================================================================================================================================================================================================================================================================================================================================================================================================================================================================================================================================================================================================================================================================================================================================================================================================================================================================================================================================================================================================================================================================================================================================================================================================================================] - 1s 108us/sample - loss: 0.6354 - accuracy: 0.7735\n"
     ]
    }
   ],
   "source": [
    "results = model.evaluate(X_test, y_test)"
   ]
  },
  {
   "cell_type": "code",
   "execution_count": 0,
   "metadata": {
    "colab": {
     "base_uri": "https://localhost:8080/",
     "height": 34
    },
    "colab_type": "code",
    "executionInfo": {
     "elapsed": 779,
     "status": "ok",
     "timestamp": 1574343030327,
     "user": {
      "displayName": "Suryansh Sharma",
      "photoUrl": "https://lh3.googleusercontent.com/a-/AAuE7mBy1CGO0PDyRG1nsJ6rDaUXBg-h18OkEJ86htszrw=s64",
      "userId": "03232072030227591914"
     },
     "user_tz": -330
    },
    "id": "6PSheNKy66Iu",
    "outputId": "46ec5282-7334-4739-e8c2-e7deef4fdc65"
   },
   "outputs": [
    {
     "name": "stdout",
     "output_type": "stream",
     "text": [
      "Test accuracy:  0.7735\n"
     ]
    }
   ],
   "source": [
    "print('Test accuracy: ', results[1])"
   ]
  },
  {
   "cell_type": "markdown",
   "metadata": {
    "colab_type": "text",
    "id": "3V7kN5-f7IHv"
   },
   "source": [
    "### 1. Weight Initialization\n",
    "\n",
    "Changing weight initialization scheme can significantly improve training of the model by preventing vanishing gradient problem up to some degree\n",
    "\n",
    "Ref: https://keras.io/initializers/"
   ]
  },
  {
   "cell_type": "code",
   "execution_count": 0,
   "metadata": {
    "colab": {},
    "colab_type": "code",
    "id": "7il0ZpZZ67GP"
   },
   "outputs": [],
   "source": [
    "# from now on, create a function to generate (return) models\n",
    "def mlp_model():\n",
    "    \n",
    "    tf.keras.backend.clear_session() \n",
    "    model = Sequential()\n",
    "    \n",
    "    model.add(Dense(50, input_shape = (784, ), kernel_initializer='he_normal'))     # use he_normal initializer\n",
    "    model.add(Activation('sigmoid'))    \n",
    "    model.add(Dense(50, kernel_initializer='he_normal'))                            # use he_normal initializer\n",
    "    model.add(Activation('sigmoid'))    \n",
    "    model.add(Dense(50, kernel_initializer='he_normal'))                            # use he_normal initializer\n",
    "    model.add(Activation('sigmoid'))    \n",
    "    model.add(Dense(50, kernel_initializer='he_normal'))                            # use he_normal initializer\n",
    "    model.add(Activation('sigmoid'))    \n",
    "    model.add(Dense(10, kernel_initializer='he_normal'))                            # use he_normal initializer\n",
    "    model.add(Activation('softmax'))\n",
    "    \n",
    "    sgd = optimizers.SGD(lr = 0.001)\n",
    "    model.compile(optimizer = sgd, loss = 'categorical_crossentropy', metrics = ['accuracy'])\n",
    "    \n",
    "    return model"
   ]
  },
  {
   "cell_type": "code",
   "execution_count": 0,
   "metadata": {
    "colab": {
     "base_uri": "https://localhost:8080/",
     "height": 1000
    },
    "colab_type": "code",
    "executionInfo": {
     "elapsed": 115349,
     "status": "ok",
     "timestamp": 1574343165332,
     "user": {
      "displayName": "Suryansh Sharma",
      "photoUrl": "https://lh3.googleusercontent.com/a-/AAuE7mBy1CGO0PDyRG1nsJ6rDaUXBg-h18OkEJ86htszrw=s64",
      "userId": "03232072030227591914"
     },
     "user_tz": -330
    },
    "id": "9iOQeOzR7Q2O",
    "outputId": "3db57b76-306d-419d-8c74-5cff6828dba3"
   },
   "outputs": [
    {
     "name": "stdout",
     "output_type": "stream",
     "text": [
      "Train on 60000 samples\n",
      "Epoch 1/100\n",
      "60000/60000 [==============================] - 2s 25us/sample - loss: 2.4123 - accuracy: 0.1000\n",
      "Epoch 2/100\n",
      "60000/60000 [==============================] - 1s 19us/sample - loss: 2.3463 - accuracy: 0.1000\n",
      "Epoch 3/100\n",
      "60000/60000 [==============================] - 1s 19us/sample - loss: 2.3188 - accuracy: 0.0999\n",
      "Epoch 4/100\n",
      "60000/60000 [==============================] - 1s 19us/sample - loss: 2.3057 - accuracy: 0.0973\n",
      "Epoch 5/100\n",
      "60000/60000 [==============================] - 1s 19us/sample - loss: 2.2991 - accuracy: 0.0966\n",
      "Epoch 6/100\n",
      "60000/60000 [==============================] - 1s 19us/sample - loss: 2.2955 - accuracy: 0.1173\n",
      "Epoch 7/100\n",
      "60000/60000 [==============================] - 1s 19us/sample - loss: 2.2935 - accuracy: 0.1644\n",
      "Epoch 8/100\n",
      "60000/60000 [==============================] - 1s 19us/sample - loss: 2.2921 - accuracy: 0.1898\n",
      "Epoch 9/100\n",
      "60000/60000 [==============================] - 1s 19us/sample - loss: 2.2910 - accuracy: 0.2368\n",
      "Epoch 10/100\n",
      "60000/60000 [==============================] - 1s 19us/sample - loss: 2.2900 - accuracy: 0.2752\n",
      "Epoch 11/100\n",
      "60000/60000 [==============================] - 1s 19us/sample - loss: 2.2892 - accuracy: 0.2892\n",
      "Epoch 12/100\n",
      "60000/60000 [==============================] - 1s 19us/sample - loss: 2.2883 - accuracy: 0.3086\n",
      "Epoch 13/100\n",
      "60000/60000 [==============================] - 1s 19us/sample - loss: 2.2875 - accuracy: 0.3510\n",
      "Epoch 14/100\n",
      "60000/60000 [==============================] - 1s 19us/sample - loss: 2.2867 - accuracy: 0.3655\n",
      "Epoch 15/100\n",
      "60000/60000 [==============================] - 1s 19us/sample - loss: 2.2859 - accuracy: 0.3800\n",
      "Epoch 16/100\n",
      "60000/60000 [==============================] - 1s 19us/sample - loss: 2.2851 - accuracy: 0.3869\n",
      "Epoch 17/100\n",
      "60000/60000 [==============================] - 1s 19us/sample - loss: 2.2844 - accuracy: 0.3871\n",
      "Epoch 18/100\n",
      "60000/60000 [==============================] - 1s 19us/sample - loss: 2.2837 - accuracy: 0.3972\n",
      "Epoch 19/100\n",
      "60000/60000 [==============================] - 1s 19us/sample - loss: 2.2830 - accuracy: 0.3943\n",
      "Epoch 20/100\n",
      "60000/60000 [==============================] - 1s 19us/sample - loss: 2.2823 - accuracy: 0.4033\n",
      "Epoch 21/100\n",
      "60000/60000 [==============================] - 1s 19us/sample - loss: 2.2815 - accuracy: 0.4053\n",
      "Epoch 22/100\n",
      "60000/60000 [==============================] - 1s 19us/sample - loss: 2.2808 - accuracy: 0.4031\n",
      "Epoch 23/100\n",
      "60000/60000 [==============================] - 1s 19us/sample - loss: 2.2801 - accuracy: 0.4105\n",
      "Epoch 24/100\n",
      "60000/60000 [==============================] - 1s 19us/sample - loss: 2.2794 - accuracy: 0.4158\n",
      "Epoch 25/100\n",
      "60000/60000 [==============================] - 1s 19us/sample - loss: 2.2787 - accuracy: 0.4176\n",
      "Epoch 26/100\n",
      "60000/60000 [==============================] - 1s 19us/sample - loss: 2.2779 - accuracy: 0.4211\n",
      "Epoch 27/100\n",
      "60000/60000 [==============================] - 1s 19us/sample - loss: 2.2771 - accuracy: 0.4232\n",
      "Epoch 28/100\n",
      "60000/60000 [==============================] - 1s 19us/sample - loss: 2.2763 - accuracy: 0.4222\n",
      "Epoch 29/100\n",
      "60000/60000 [==============================] - 1s 19us/sample - loss: 2.2753 - accuracy: 0.4286\n",
      "Epoch 30/100\n",
      "60000/60000 [==============================] - 1s 19us/sample - loss: 2.2743 - accuracy: 0.4295\n",
      "Epoch 31/100\n",
      "60000/60000 [==============================] - 1s 19us/sample - loss: 2.2733 - accuracy: 0.4339\n",
      "Epoch 32/100\n",
      "60000/60000 [==============================] - 1s 19us/sample - loss: 2.2724 - accuracy: 0.4324\n",
      "Epoch 33/100\n",
      "60000/60000 [==============================] - 1s 19us/sample - loss: 2.2715 - accuracy: 0.4361\n",
      "Epoch 34/100\n",
      "60000/60000 [==============================] - 1s 19us/sample - loss: 2.2707 - accuracy: 0.4366\n",
      "Epoch 35/100\n",
      "60000/60000 [==============================] - 1s 19us/sample - loss: 2.2698 - accuracy: 0.4390\n",
      "Epoch 36/100\n",
      "60000/60000 [==============================] - 1s 19us/sample - loss: 2.2689 - accuracy: 0.4397\n",
      "Epoch 37/100\n",
      "60000/60000 [==============================] - 1s 19us/sample - loss: 2.2681 - accuracy: 0.4403\n",
      "Epoch 38/100\n",
      "60000/60000 [==============================] - 1s 19us/sample - loss: 2.2672 - accuracy: 0.4435\n",
      "Epoch 39/100\n",
      "60000/60000 [==============================] - 1s 19us/sample - loss: 2.2662 - accuracy: 0.4464\n",
      "Epoch 40/100\n",
      "60000/60000 [==============================] - 1s 19us/sample - loss: 2.2653 - accuracy: 0.4480\n",
      "Epoch 41/100\n",
      "60000/60000 [==============================] - 1s 19us/sample - loss: 2.2644 - accuracy: 0.4506\n",
      "Epoch 42/100\n",
      "60000/60000 [==============================] - 1s 19us/sample - loss: 2.2634 - accuracy: 0.4571\n",
      "Epoch 43/100\n",
      "60000/60000 [==============================] - 1s 19us/sample - loss: 2.2623 - accuracy: 0.4525\n",
      "Epoch 44/100\n",
      "60000/60000 [==============================] - 1s 19us/sample - loss: 2.2613 - accuracy: 0.4549\n",
      "Epoch 45/100\n",
      "60000/60000 [==============================] - 1s 19us/sample - loss: 2.2604 - accuracy: 0.4568\n",
      "Epoch 46/100\n",
      "60000/60000 [==============================] - 1s 19us/sample - loss: 2.2594 - accuracy: 0.4531\n",
      "Epoch 47/100\n",
      "60000/60000 [==============================] - 1s 19us/sample - loss: 2.2583 - accuracy: 0.4615\n",
      "Epoch 48/100\n",
      "60000/60000 [==============================] - 1s 19us/sample - loss: 2.2573 - accuracy: 0.4582\n",
      "Epoch 49/100\n",
      "60000/60000 [==============================] - 1s 19us/sample - loss: 2.2563 - accuracy: 0.4581\n",
      "Epoch 50/100\n",
      "60000/60000 [==============================] - 1s 19us/sample - loss: 2.2552 - accuracy: 0.4606\n",
      "Epoch 51/100\n",
      "60000/60000 [==============================] - 1s 19us/sample - loss: 2.2542 - accuracy: 0.4621\n",
      "Epoch 52/100\n",
      "60000/60000 [==============================] - 1s 19us/sample - loss: 2.2531 - accuracy: 0.4654\n",
      "Epoch 53/100\n",
      "60000/60000 [==============================] - 1s 19us/sample - loss: 2.2520 - accuracy: 0.4601\n",
      "Epoch 54/100\n",
      "60000/60000 [==============================] - 1s 19us/sample - loss: 2.2508 - accuracy: 0.4681\n",
      "Epoch 55/100\n",
      "60000/60000 [==============================] - 1s 19us/sample - loss: 2.2497 - accuracy: 0.4665\n",
      "Epoch 56/100\n",
      "60000/60000 [==============================] - 1s 19us/sample - loss: 2.2485 - accuracy: 0.4735\n",
      "Epoch 57/100\n",
      "60000/60000 [==============================] - 1s 19us/sample - loss: 2.2473 - accuracy: 0.4692\n",
      "Epoch 58/100\n",
      "60000/60000 [==============================] - 1s 19us/sample - loss: 2.2461 - accuracy: 0.4736\n",
      "Epoch 59/100\n",
      "60000/60000 [==============================] - 1s 19us/sample - loss: 2.2448 - accuracy: 0.4723\n",
      "Epoch 60/100\n",
      "60000/60000 [==============================] - 1s 19us/sample - loss: 2.2435 - accuracy: 0.4739\n",
      "Epoch 61/100\n",
      "60000/60000 [==============================] - 1s 19us/sample - loss: 2.2422 - accuracy: 0.4737\n",
      "Epoch 62/100\n",
      "60000/60000 [==============================] - 1s 19us/sample - loss: 2.2408 - accuracy: 0.4764\n",
      "Epoch 63/100\n",
      "60000/60000 [==============================] - 1s 19us/sample - loss: 2.2395 - accuracy: 0.4800\n",
      "Epoch 64/100\n",
      "60000/60000 [==============================] - 1s 19us/sample - loss: 2.2380 - accuracy: 0.4755\n",
      "Epoch 65/100\n",
      "60000/60000 [==============================] - 1s 19us/sample - loss: 2.2366 - accuracy: 0.4824\n",
      "Epoch 66/100\n",
      "60000/60000 [==============================] - 1s 18us/sample - loss: 2.2351 - accuracy: 0.4814\n",
      "Epoch 67/100\n",
      "60000/60000 [==============================] - 1s 19us/sample - loss: 2.2335 - accuracy: 0.4831\n",
      "Epoch 68/100\n",
      "60000/60000 [==============================] - 1s 19us/sample - loss: 2.2319 - accuracy: 0.4765\n",
      "Epoch 69/100\n",
      "60000/60000 [==============================] - 1s 19us/sample - loss: 2.2303 - accuracy: 0.4868\n",
      "Epoch 70/100\n",
      "60000/60000 [==============================] - 1s 19us/sample - loss: 2.2286 - accuracy: 0.4830\n",
      "Epoch 71/100\n",
      "60000/60000 [==============================] - 1s 19us/sample - loss: 2.2269 - accuracy: 0.4837\n",
      "Epoch 72/100\n",
      "60000/60000 [==============================] - 1s 20us/sample - loss: 2.2251 - accuracy: 0.4816\n",
      "Epoch 73/100\n",
      "60000/60000 [==============================] - 1s 19us/sample - loss: 2.2232 - accuracy: 0.4869\n",
      "Epoch 74/100\n",
      "60000/60000 [==============================] - 1s 19us/sample - loss: 2.2213 - accuracy: 0.4839\n",
      "Epoch 75/100\n",
      "60000/60000 [==============================] - 1s 19us/sample - loss: 2.2194 - accuracy: 0.4870\n",
      "Epoch 76/100\n",
      "60000/60000 [==============================] - 1s 19us/sample - loss: 2.2174 - accuracy: 0.4885\n",
      "Epoch 77/100\n",
      "60000/60000 [==============================] - 1s 19us/sample - loss: 2.2153 - accuracy: 0.4902\n",
      "Epoch 78/100\n",
      "60000/60000 [==============================] - 1s 19us/sample - loss: 2.2131 - accuracy: 0.4821\n",
      "Epoch 79/100\n",
      "60000/60000 [==============================] - 1s 19us/sample - loss: 2.2110 - accuracy: 0.4918\n",
      "Epoch 80/100\n",
      "60000/60000 [==============================] - 1s 19us/sample - loss: 2.2087 - accuracy: 0.4919\n",
      "Epoch 81/100\n",
      "60000/60000 [==============================] - 1s 19us/sample - loss: 2.2064 - accuracy: 0.4887\n",
      "Epoch 82/100\n",
      "60000/60000 [==============================] - 1s 19us/sample - loss: 2.2040 - accuracy: 0.4896\n",
      "Epoch 83/100\n",
      "60000/60000 [==============================] - 1s 19us/sample - loss: 2.2016 - accuracy: 0.4869\n",
      "Epoch 84/100\n",
      "60000/60000 [==============================] - 1s 19us/sample - loss: 2.1991 - accuracy: 0.4871\n",
      "Epoch 85/100\n",
      "60000/60000 [==============================] - 1s 19us/sample - loss: 2.1965 - accuracy: 0.4853\n",
      "Epoch 86/100\n",
      "60000/60000 [==============================] - 1s 19us/sample - loss: 2.1939 - accuracy: 0.4901\n",
      "Epoch 87/100\n",
      "60000/60000 [==============================] - 1s 19us/sample - loss: 2.1912 - accuracy: 0.4904\n",
      "Epoch 88/100\n",
      "60000/60000 [==============================] - 1s 19us/sample - loss: 2.1883 - accuracy: 0.4901\n",
      "Epoch 89/100\n",
      "60000/60000 [==============================] - 1s 19us/sample - loss: 2.1854 - accuracy: 0.4938\n",
      "Epoch 90/100\n",
      "60000/60000 [==============================] - 1s 20us/sample - loss: 2.1825 - accuracy: 0.4941\n",
      "Epoch 91/100\n",
      "60000/60000 [==============================] - 1s 19us/sample - loss: 2.1794 - accuracy: 0.4909\n",
      "Epoch 92/100\n",
      "60000/60000 [==============================] - 1s 19us/sample - loss: 2.1762 - accuracy: 0.4928\n",
      "Epoch 93/100\n",
      "60000/60000 [==============================] - 1s 19us/sample - loss: 2.1729 - accuracy: 0.4962\n",
      "Epoch 94/100\n",
      "60000/60000 [==============================] - 1s 19us/sample - loss: 2.1695 - accuracy: 0.4940\n",
      "Epoch 95/100\n",
      "60000/60000 [==============================] - 1s 19us/sample - loss: 2.1661 - accuracy: 0.4931\n",
      "Epoch 96/100\n",
      "60000/60000 [==============================] - 1s 19us/sample - loss: 2.1625 - accuracy: 0.4921\n",
      "Epoch 97/100\n",
      "60000/60000 [==============================] - 1s 19us/sample - loss: 2.1588 - accuracy: 0.4947\n",
      "Epoch 98/100\n",
      "60000/60000 [==============================] - 1s 19us/sample - loss: 2.1549 - accuracy: 0.4940\n",
      "Epoch 99/100\n",
      "60000/60000 [==============================] - 1s 19us/sample - loss: 2.1510 - accuracy: 0.4968\n",
      "Epoch 100/100\n",
      "60000/60000 [==============================] - 1s 19us/sample - loss: 2.1469 - accuracy: 0.4968\n"
     ]
    }
   ],
   "source": [
    "model = mlp_model()\n",
    "history = model.fit(X_train, y_train, batch_size=200, epochs = 100, verbose = 1)"
   ]
  },
  {
   "cell_type": "code",
   "execution_count": 38,
   "metadata": {
    "colab": {
     "base_uri": "https://localhost:8080/",
     "height": 54
    },
    "colab_type": "code",
    "executionInfo": {
     "elapsed": 2178,
     "status": "ok",
     "timestamp": 1574343173561,
     "user": {
      "displayName": "Suryansh Sharma",
      "photoUrl": "https://lh3.googleusercontent.com/a-/AAuE7mBy1CGO0PDyRG1nsJ6rDaUXBg-h18OkEJ86htszrw=s64",
      "userId": "03232072030227591914"
     },
     "user_tz": -330
    },
    "id": "ThB85Acn7SFu",
    "outputId": "be9d842b-15c4-44e3-fcae-f34fe4ac630d"
   },
   "outputs": [
    {
     "name": "stdout",
     "output_type": "stream",
     "text": [
      "10000/10000 [==============================] - 0s 34us/sample - loss: 0.7453 - acc: 0.7302\n"
     ]
    }
   ],
   "source": [
    "results = model.evaluate(X_test, y_test)"
   ]
  },
  {
   "cell_type": "code",
   "execution_count": 40,
   "metadata": {
    "colab": {
     "base_uri": "https://localhost:8080/",
     "height": 34
    },
    "colab_type": "code",
    "executionInfo": {
     "elapsed": 982,
     "status": "ok",
     "timestamp": 1574343173563,
     "user": {
      "displayName": "Suryansh Sharma",
      "photoUrl": "https://lh3.googleusercontent.com/a-/AAuE7mBy1CGO0PDyRG1nsJ6rDaUXBg-h18OkEJ86htszrw=s64",
      "userId": "03232072030227591914"
     },
     "user_tz": -330
    },
    "id": "Iq5a7na67UgU",
    "outputId": "15ffc87a-3e71-4950-a9dd-1731ad0935d0"
   },
   "outputs": [
    {
     "name": "stdout",
     "output_type": "stream",
     "text": [
      "Test accuracy:  0.7302\n"
     ]
    }
   ],
   "source": [
    "print('Test accuracy: ', results[1])"
   ]
  },
  {
   "cell_type": "markdown",
   "metadata": {
    "colab_type": "text",
    "id": "c5M6EHv17YUV"
   },
   "source": [
    "### 2. Nonlinearity (Activation function)\n",
    "\n",
    "Sigmoid functions suffer from gradient vanishing problem, making training slower\n",
    "\n",
    "There are many choices apart from sigmoid and tanh; try many of them!\n",
    "\n",
    "'relu' (rectified linear unit) is one of the most popular ones\n",
    "\n",
    "Ref: https://keras.io/activations/"
   ]
  },
  {
   "cell_type": "code",
   "execution_count": 41,
   "metadata": {},
   "outputs": [],
   "source": [
    "# he_normal - didn't do good, reverting back to default glorot_init"
   ]
  },
  {
   "cell_type": "code",
   "execution_count": 42,
   "metadata": {
    "colab": {},
    "colab_type": "code",
    "id": "BuuRRvxL7WU1"
   },
   "outputs": [],
   "source": [
    "def mlp_model():\n",
    "    model = Sequential()\n",
    "    \n",
    "    model.add(Dense(50, input_shape = (784, )))\n",
    "    model.add(Activation('relu'))    \n",
    "    model.add(Dense(50))\n",
    "    model.add(Activation('relu'))    \n",
    "    model.add(Dense(50))\n",
    "    model.add(Activation('relu'))    \n",
    "    model.add(Dense(50))\n",
    "    model.add(Activation('relu'))    \n",
    "    model.add(Dense(10))\n",
    "    model.add(Activation('softmax'))\n",
    "    \n",
    "    sgd = optimizers.SGD(lr = 0.001)\n",
    "    model.compile(optimizer = sgd, loss = 'categorical_crossentropy', metrics = ['accuracy'])\n",
    "    \n",
    "    return model"
   ]
  },
  {
   "cell_type": "code",
   "execution_count": 43,
   "metadata": {
    "colab": {
     "base_uri": "https://localhost:8080/",
     "height": 386
    },
    "colab_type": "code",
    "executionInfo": {
     "elapsed": 68232,
     "status": "ok",
     "timestamp": 1574343243524,
     "user": {
      "displayName": "Suryansh Sharma",
      "photoUrl": "https://lh3.googleusercontent.com/a-/AAuE7mBy1CGO0PDyRG1nsJ6rDaUXBg-h18OkEJ86htszrw=s64",
      "userId": "03232072030227591914"
     },
     "user_tz": -330
    },
    "id": "LHqen6477eRZ",
    "outputId": "442eca8d-254e-46cc-bfa3-aac557357473"
   },
   "outputs": [
    {
     "name": "stdout",
     "output_type": "stream",
     "text": [
      "Epoch 1/10\n",
      "60000/60000 [==============================] - 3s 56us/sample - loss: 1.8442 - acc: 0.6651\n",
      "Epoch 2/10\n",
      "60000/60000 [==============================] - 3s 49us/sample - loss: 0.5804 - acc: 0.7920\n",
      "Epoch 3/10\n",
      "60000/60000 [==============================] - 3s 52us/sample - loss: 0.5155 - acc: 0.8161\n",
      "Epoch 4/10\n",
      "60000/60000 [==============================] - 3s 53us/sample - loss: 0.4802 - acc: 0.8281\n",
      "Epoch 5/10\n",
      "60000/60000 [==============================] - 3s 53us/sample - loss: 0.4543 - acc: 0.8349\n",
      "Epoch 6/10\n",
      "60000/60000 [==============================] - 3s 51us/sample - loss: 0.4351 - acc: 0.8430\n",
      "Epoch 7/10\n",
      "60000/60000 [==============================] - 3s 53us/sample - loss: 0.4214 - acc: 0.8461\n",
      "Epoch 8/10\n",
      "60000/60000 [==============================] - 3s 53us/sample - loss: 0.4082 - acc: 0.8518\n",
      "Epoch 9/10\n",
      "60000/60000 [==============================] - 3s 54us/sample - loss: 0.3975 - acc: 0.8547\n",
      "Epoch 10/10\n",
      "60000/60000 [==============================] - 3s 53us/sample - loss: 0.3898 - acc: 0.8581\n"
     ]
    }
   ],
   "source": [
    "model = mlp_model()\n",
    "history = model.fit(X_train, y_train, epochs = 10, verbose = 1)"
   ]
  },
  {
   "cell_type": "code",
   "execution_count": 44,
   "metadata": {
    "colab": {
     "base_uri": "https://localhost:8080/",
     "height": 54
    },
    "colab_type": "code",
    "executionInfo": {
     "elapsed": 68336,
     "status": "ok",
     "timestamp": 1574343244956,
     "user": {
      "displayName": "Suryansh Sharma",
      "photoUrl": "https://lh3.googleusercontent.com/a-/AAuE7mBy1CGO0PDyRG1nsJ6rDaUXBg-h18OkEJ86htszrw=s64",
      "userId": "03232072030227591914"
     },
     "user_tz": -330
    },
    "id": "LLrEe_Kn7fha",
    "outputId": "28e0bd0a-4cac-4c20-e3cd-ce5dbe1e47fe"
   },
   "outputs": [
    {
     "name": "stdout",
     "output_type": "stream",
     "text": [
      "10000/10000 [==============================] - 0s 40us/sample - loss: 0.4579 - acc: 0.8386\n"
     ]
    }
   ],
   "source": [
    "results = model.evaluate(X_test, y_test)"
   ]
  },
  {
   "cell_type": "code",
   "execution_count": 45,
   "metadata": {
    "colab": {
     "base_uri": "https://localhost:8080/",
     "height": 34
    },
    "colab_type": "code",
    "executionInfo": {
     "elapsed": 67400,
     "status": "ok",
     "timestamp": 1574343244959,
     "user": {
      "displayName": "Suryansh Sharma",
      "photoUrl": "https://lh3.googleusercontent.com/a-/AAuE7mBy1CGO0PDyRG1nsJ6rDaUXBg-h18OkEJ86htszrw=s64",
      "userId": "03232072030227591914"
     },
     "user_tz": -330
    },
    "id": "BBUqrqSd7heP",
    "outputId": "37637621-adef-4ddf-ebc4-9369a2d3d9aa"
   },
   "outputs": [
    {
     "name": "stdout",
     "output_type": "stream",
     "text": [
      "Test accuracy:  0.8386\n"
     ]
    }
   ],
   "source": [
    "print('Test accuracy: ', results[1])"
   ]
  },
  {
   "cell_type": "markdown",
   "metadata": {
    "colab_type": "text",
    "id": "lp_-o2ug70fF"
   },
   "source": [
    "### 3. Batch Normalization\n",
    "\n",
    "Batch Normalization, one of the methods to prevent the \"internal covariance shift\" problem, has proven to be highly effective\n",
    "\n",
    "Normalize each mini-batch before nonlinearity\n",
    "\n",
    "Ref: https://keras.io/optimizers/"
   ]
  },
  {
   "cell_type": "code",
   "execution_count": 51,
   "metadata": {
    "colab": {},
    "colab_type": "code",
    "id": "buhn2kOY7yg8"
   },
   "outputs": [],
   "source": [
    "from tensorflow.keras.layers import BatchNormalization, Dropout"
   ]
  },
  {
   "cell_type": "markdown",
   "metadata": {
    "colab_type": "text",
    "id": "8YrSd0LT78Yi"
   },
   "source": [
    "#### Batch normalization layer is usually inserted after dense/convolution and before nonlinearity"
   ]
  },
  {
   "cell_type": "code",
   "execution_count": 52,
   "metadata": {},
   "outputs": [],
   "source": [
    "# Relu gave good results, so we will resort RELU for activation\n",
    "# including BatchNormalisation after every dense layer"
   ]
  },
  {
   "cell_type": "code",
   "execution_count": 53,
   "metadata": {
    "colab": {},
    "colab_type": "code",
    "id": "10InY0e_77M7"
   },
   "outputs": [],
   "source": [
    "def mlp_model():\n",
    "    \n",
    "    model = Sequential()\n",
    "    \n",
    "    model.add(Dense(50, input_shape = (784, )))\n",
    "    model.add(BatchNormalization())                    \n",
    "    model.add(Activation('relu'))    \n",
    "    model.add(Dense(50))\n",
    "    model.add(BatchNormalization())                    \n",
    "    model.add(Activation('relu'))    \n",
    "    model.add(Dense(50))\n",
    "    model.add(BatchNormalization())                    \n",
    "    model.add(Activation('relu'))    \n",
    "    model.add(Dense(50))\n",
    "    model.add(BatchNormalization())                    \n",
    "    model.add(Activation('relu'))    \n",
    "    model.add(Dense(10))\n",
    "    model.add(Activation('softmax'))\n",
    "    \n",
    "    sgd = optimizers.SGD(lr = 0.001)\n",
    "    model.compile(optimizer = sgd, loss = 'categorical_crossentropy', metrics = ['accuracy'])\n",
    "    \n",
    "    return model"
   ]
  },
  {
   "cell_type": "code",
   "execution_count": 55,
   "metadata": {},
   "outputs": [
    {
     "name": "stdout",
     "output_type": "stream",
     "text": [
      "_________________________________________________________________\n",
      "Layer (type)                 Output Shape              Param #   \n",
      "=================================================================\n",
      "dense_17 (Dense)             (None, 50)                39250     \n",
      "_________________________________________________________________\n",
      "batch_normalization_v1_4 (Ba (None, 50)                200       \n",
      "_________________________________________________________________\n",
      "activation_15 (Activation)   (None, 50)                0         \n",
      "_________________________________________________________________\n",
      "dense_18 (Dense)             (None, 50)                2550      \n",
      "_________________________________________________________________\n",
      "batch_normalization_v1_5 (Ba (None, 50)                200       \n",
      "_________________________________________________________________\n",
      "activation_16 (Activation)   (None, 50)                0         \n",
      "_________________________________________________________________\n",
      "dense_19 (Dense)             (None, 50)                2550      \n",
      "_________________________________________________________________\n",
      "batch_normalization_v1_6 (Ba (None, 50)                200       \n",
      "_________________________________________________________________\n",
      "activation_17 (Activation)   (None, 50)                0         \n",
      "_________________________________________________________________\n",
      "dense_20 (Dense)             (None, 50)                2550      \n",
      "_________________________________________________________________\n",
      "batch_normalization_v1_7 (Ba (None, 50)                200       \n",
      "_________________________________________________________________\n",
      "activation_18 (Activation)   (None, 50)                0         \n",
      "_________________________________________________________________\n",
      "dense_21 (Dense)             (None, 10)                510       \n",
      "_________________________________________________________________\n",
      "activation_19 (Activation)   (None, 10)                0         \n",
      "=================================================================\n",
      "Total params: 48,210\n",
      "Trainable params: 47,810\n",
      "Non-trainable params: 400\n",
      "_________________________________________________________________\n"
     ]
    }
   ],
   "source": [
    "model = mlp_model()\n",
    "model.summary()"
   ]
  },
  {
   "cell_type": "code",
   "execution_count": 56,
   "metadata": {
    "colab": {
     "base_uri": "https://localhost:8080/",
     "height": 738
    },
    "colab_type": "code",
    "executionInfo": {
     "elapsed": 250932,
     "status": "ok",
     "timestamp": 1574343442937,
     "user": {
      "displayName": "Suryansh Sharma",
      "photoUrl": "https://lh3.googleusercontent.com/a-/AAuE7mBy1CGO0PDyRG1nsJ6rDaUXBg-h18OkEJ86htszrw=s64",
      "userId": "03232072030227591914"
     },
     "user_tz": -330
    },
    "id": "jOCywkTg79_W",
    "outputId": "4c44b42d-779a-4d48-a84c-50e7559d0ec8"
   },
   "outputs": [
    {
     "name": "stdout",
     "output_type": "stream",
     "text": [
      "Epoch 1/20\n",
      "60000/60000 [==============================] - 5s 84us/sample - loss: 1.4394 - acc: 0.5522\n",
      "Epoch 2/20\n",
      "60000/60000 [==============================] - 4s 73us/sample - loss: 0.8819 - acc: 0.7368\n",
      "Epoch 3/20\n",
      "60000/60000 [==============================] - 4s 72us/sample - loss: 0.7322 - acc: 0.7673\n",
      "Epoch 4/20\n",
      "60000/60000 [==============================] - 4s 72us/sample - loss: 0.6544 - acc: 0.7853\n",
      "Epoch 5/20\n",
      "60000/60000 [==============================] - 4s 72us/sample - loss: 0.6053 - acc: 0.7995\n",
      "Epoch 6/20\n",
      "60000/60000 [==============================] - 4s 74us/sample - loss: 0.5729 - acc: 0.8073\n",
      "Epoch 7/20\n",
      "60000/60000 [==============================] - 4s 74us/sample - loss: 0.5489 - acc: 0.8137\n",
      "Epoch 8/20\n",
      "60000/60000 [==============================] - 5s 75us/sample - loss: 0.5289 - acc: 0.8178\n",
      "Epoch 9/20\n",
      "60000/60000 [==============================] - 5s 76us/sample - loss: 0.5128 - acc: 0.8243\n",
      "Epoch 10/20\n",
      "60000/60000 [==============================] - 5s 77us/sample - loss: 0.5000 - acc: 0.8262\n",
      "Epoch 11/20\n",
      "60000/60000 [==============================] - 5s 77us/sample - loss: 0.4862 - acc: 0.8308\n",
      "Epoch 12/20\n",
      "60000/60000 [==============================] - 5s 76us/sample - loss: 0.4813 - acc: 0.8331\n",
      "Epoch 13/20\n",
      "60000/60000 [==============================] - 5s 77us/sample - loss: 0.4692 - acc: 0.8372\n",
      "Epoch 14/20\n",
      "60000/60000 [==============================] - 5s 77us/sample - loss: 0.4607 - acc: 0.8388\n",
      "Epoch 15/20\n",
      "60000/60000 [==============================] - 5s 78us/sample - loss: 0.4487 - acc: 0.8422\n",
      "Epoch 16/20\n",
      "60000/60000 [==============================] - 5s 78us/sample - loss: 0.4446 - acc: 0.8447\n",
      "Epoch 17/20\n",
      "60000/60000 [==============================] - 5s 78us/sample - loss: 0.4399 - acc: 0.8449\n",
      "Epoch 18/20\n",
      "60000/60000 [==============================] - 5s 78us/sample - loss: 0.4324 - acc: 0.8493\n",
      "Epoch 19/20\n",
      "60000/60000 [==============================] - 5s 78us/sample - loss: 0.4284 - acc: 0.8497\n",
      "Epoch 20/20\n",
      "60000/60000 [==============================] - 5s 77us/sample - loss: 0.4218 - acc: 0.8509\n"
     ]
    }
   ],
   "source": [
    "history = model.fit(X_train, y_train, epochs = 20, verbose = 1)"
   ]
  },
  {
   "cell_type": "code",
   "execution_count": 57,
   "metadata": {
    "colab": {
     "base_uri": "https://localhost:8080/",
     "height": 54
    },
    "colab_type": "code",
    "executionInfo": {
     "elapsed": 251917,
     "status": "ok",
     "timestamp": 1574343444719,
     "user": {
      "displayName": "Suryansh Sharma",
      "photoUrl": "https://lh3.googleusercontent.com/a-/AAuE7mBy1CGO0PDyRG1nsJ6rDaUXBg-h18OkEJ86htszrw=s64",
      "userId": "03232072030227591914"
     },
     "user_tz": -330
    },
    "id": "gGodrhsc8AW7",
    "outputId": "d0458970-8e39-4465-e9c6-6f9c6da65536"
   },
   "outputs": [
    {
     "name": "stdout",
     "output_type": "stream",
     "text": [
      "10000/10000 [==============================] - 0s 44us/sample - loss: 0.4036 - acc: 0.8560\n"
     ]
    }
   ],
   "source": [
    "results = model.evaluate(X_test, y_test)"
   ]
  },
  {
   "cell_type": "code",
   "execution_count": 58,
   "metadata": {
    "colab": {
     "base_uri": "https://localhost:8080/",
     "height": 34
    },
    "colab_type": "code",
    "executionInfo": {
     "elapsed": 251187,
     "status": "ok",
     "timestamp": 1574343444723,
     "user": {
      "displayName": "Suryansh Sharma",
      "photoUrl": "https://lh3.googleusercontent.com/a-/AAuE7mBy1CGO0PDyRG1nsJ6rDaUXBg-h18OkEJ86htszrw=s64",
      "userId": "03232072030227591914"
     },
     "user_tz": -330
    },
    "id": "zDnDxm8r8Bt0",
    "outputId": "25bc9ed6-6be5-4f32-eb17-319a02da3a68"
   },
   "outputs": [
    {
     "name": "stdout",
     "output_type": "stream",
     "text": [
      "Test accuracy:  0.856\n"
     ]
    }
   ],
   "source": [
    "print('Test accuracy: ', results[1])\n"
   ]
  },
  {
   "cell_type": "code",
   "execution_count": null,
   "metadata": {},
   "outputs": [],
   "source": [
    "# tyically drop out layer is added after the activation layer"
   ]
  },
  {
   "cell_type": "markdown",
   "metadata": {
    "colab_type": "text",
    "id": "ElSuYRBH8yim"
   },
   "source": [
    "### Dropout"
   ]
  },
  {
   "cell_type": "code",
   "execution_count": 59,
   "metadata": {
    "colab": {},
    "colab_type": "code",
    "id": "gKXR7REP8C8s"
   },
   "outputs": [],
   "source": [
    "def mlp_model():\n",
    "    \n",
    "    tf.keras.backend.clear_session() \n",
    "\n",
    "    model = Sequential()\n",
    "    \n",
    "    model.add(Dense(50, input_shape = (784, ), kernel_initializer='he_normal'))\n",
    "    model.add(BatchNormalization())\n",
    "    model.add(Activation('relu'))\n",
    "    model.add(Dropout(0.2))\n",
    "    model.add(Dense(50, kernel_initializer='he_normal'))\n",
    "    model.add(BatchNormalization())\n",
    "    model.add(Activation('relu'))    \n",
    "    model.add(Dropout(0.2))\n",
    "    model.add(Dense(50, kernel_initializer='he_normal'))\n",
    "    model.add(BatchNormalization())\n",
    "    model.add(Activation('relu'))\n",
    "    model.add(Dropout(0.2))\n",
    "    model.add(Dense(50, kernel_initializer='he_normal'))\n",
    "    model.add(BatchNormalization())\n",
    "    model.add(Activation('relu'))\n",
    "    model.add(Dropout(0.2))\n",
    "    model.add(Dense(10, kernel_initializer='he_normal'))\n",
    "    model.add(Activation('softmax'))\n",
    "    \n",
    "    adam = optimizers.Adam(lr = 0.001)\n",
    "    model.compile(optimizer = adam, loss = 'categorical_crossentropy', metrics = ['accuracy'])\n",
    "    \n",
    "    return model"
   ]
  },
  {
   "cell_type": "code",
   "execution_count": 60,
   "metadata": {
    "colab": {
     "base_uri": "https://localhost:8080/",
     "height": 386
    },
    "colab_type": "code",
    "executionInfo": {
     "elapsed": 367826,
     "status": "ok",
     "timestamp": 1574343564038,
     "user": {
      "displayName": "Suryansh Sharma",
      "photoUrl": "https://lh3.googleusercontent.com/a-/AAuE7mBy1CGO0PDyRG1nsJ6rDaUXBg-h18OkEJ86htszrw=s64",
      "userId": "03232072030227591914"
     },
     "user_tz": -330
    },
    "id": "8FJsCqh680bq",
    "outputId": "9eaecfba-85ca-4653-9190-2fac675b7231"
   },
   "outputs": [
    {
     "name": "stdout",
     "output_type": "stream",
     "text": [
      "WARNING:tensorflow:From c:\\users\\gaurav.das\\appdata\\local\\programs\\python\\python37\\lib\\site-packages\\tensorflow\\python\\keras\\layers\\core.py:143: calling dropout (from tensorflow.python.ops.nn_ops) with keep_prob is deprecated and will be removed in a future version.\n",
      "Instructions for updating:\n",
      "Please use `rate` instead of `keep_prob`. Rate should be set to `rate = 1 - keep_prob`.\n",
      "Epoch 1/10\n",
      "60000/60000 [==============================] - 6s 103us/sample - loss: 0.8490 - acc: 0.7072\n",
      "Epoch 2/10\n",
      "60000/60000 [==============================] - 5s 92us/sample - loss: 0.6092 - acc: 0.7923\n",
      "Epoch 3/10\n",
      "60000/60000 [==============================] - 6s 97us/sample - loss: 0.5488 - acc: 0.8126\n",
      "Epoch 4/10\n",
      "60000/60000 [==============================] - 6s 97us/sample - loss: 0.5204 - acc: 0.8231\n",
      "Epoch 5/10\n",
      "60000/60000 [==============================] - 6s 97us/sample - loss: 0.4897 - acc: 0.8324\n",
      "Epoch 6/10\n",
      "60000/60000 [==============================] - 6s 96us/sample - loss: 0.4839 - acc: 0.8344\n",
      "Epoch 7/10\n",
      "60000/60000 [==============================] - 6s 97us/sample - loss: 0.4661 - acc: 0.8412\n",
      "Epoch 8/10\n",
      "60000/60000 [==============================] - 6s 106us/sample - loss: 0.4616 - acc: 0.8409\n",
      "Epoch 9/10\n",
      "60000/60000 [==============================] - 6s 106us/sample - loss: 0.4458 - acc: 0.8456\n",
      "Epoch 10/10\n",
      "60000/60000 [==============================] - 6s 99us/sample - loss: 0.4437 - acc: 0.8483\n"
     ]
    }
   ],
   "source": [
    "model = mlp_model()\n",
    "history = model.fit(X_train, y_train, epochs = 10, verbose = 1)"
   ]
  },
  {
   "cell_type": "code",
   "execution_count": 61,
   "metadata": {
    "colab": {
     "base_uri": "https://localhost:8080/",
     "height": 54
    },
    "colab_type": "code",
    "executionInfo": {
     "elapsed": 368767,
     "status": "ok",
     "timestamp": 1574343565748,
     "user": {
      "displayName": "Suryansh Sharma",
      "photoUrl": "https://lh3.googleusercontent.com/a-/AAuE7mBy1CGO0PDyRG1nsJ6rDaUXBg-h18OkEJ86htszrw=s64",
      "userId": "03232072030227591914"
     },
     "user_tz": -330
    },
    "id": "TY58JhC085IM",
    "outputId": "9a8871a5-424e-4417-c508-5d3cafb9fee1"
   },
   "outputs": [
    {
     "name": "stdout",
     "output_type": "stream",
     "text": [
      "10000/10000 [==============================] - 0s 45us/sample - loss: 0.3816 - acc: 0.8608\n"
     ]
    }
   ],
   "source": [
    "results = model.evaluate(X_test, y_test)"
   ]
  },
  {
   "cell_type": "code",
   "execution_count": 62,
   "metadata": {
    "colab": {
     "base_uri": "https://localhost:8080/",
     "height": 34
    },
    "colab_type": "code",
    "executionInfo": {
     "elapsed": 368025,
     "status": "ok",
     "timestamp": 1574343565750,
     "user": {
      "displayName": "Suryansh Sharma",
      "photoUrl": "https://lh3.googleusercontent.com/a-/AAuE7mBy1CGO0PDyRG1nsJ6rDaUXBg-h18OkEJ86htszrw=s64",
      "userId": "03232072030227591914"
     },
     "user_tz": -330
    },
    "id": "SU5NUjzs85KT",
    "outputId": "91bd9ae0-9b8e-41f6-fab7-3f19553580aa"
   },
   "outputs": [
    {
     "name": "stdout",
     "output_type": "stream",
     "text": [
      "Test accuracy:  0.8608\n"
     ]
    }
   ],
   "source": [
    "print('Test accuracy: ', results[1])\n"
   ]
  },
  {
   "cell_type": "code",
   "execution_count": null,
   "metadata": {},
   "outputs": [],
   "source": [
    "##LIVE"
   ]
  },
  {
   "cell_type": "code",
   "execution_count": 63,
   "metadata": {},
   "outputs": [],
   "source": [
    "def mlp_model():\n",
    "    \n",
    "    tf.keras.backend.clear_session() \n",
    "\n",
    "    model = Sequential()\n",
    "    \n",
    "    model.add(Dense(200, input_shape = (784, )))#, kernel_initializer='he_normal'))\n",
    "    model.add(BatchNormalization())\n",
    "    model.add(Activation('relu'))\n",
    "    model.add(Dropout(0.2))\n",
    "    model.add(Dense(100))#, kernel_initializer='he_normal'))\n",
    "    model.add(BatchNormalization())\n",
    "    model.add(Activation('relu'))    \n",
    "    model.add(Dropout(0.2))\n",
    "    model.add(Dense(50))#, kernel_initializer='he_normal'))\n",
    "    model.add(BatchNormalization())\n",
    "    model.add(Activation('relu'))\n",
    "    model.add(Dropout(0.2))\n",
    "    model.add(Dense(50))#, kernel_initializer='he_normal'))\n",
    "    model.add(BatchNormalization())\n",
    "    model.add(Activation('relu'))\n",
    "    model.add(Dropout(0.2))\n",
    "    model.add(Dense(10))#, kernel_initializer='he_normal'))\n",
    "    model.add(Activation('softmax'))\n",
    "    \n",
    "    adam = optimizers.Adam(lr = 0.001)\n",
    "    model.compile(optimizer = adam, loss = 'categorical_crossentropy', metrics = ['accuracy'])\n",
    "    \n",
    "    return model"
   ]
  },
  {
   "cell_type": "code",
   "execution_count": 64,
   "metadata": {},
   "outputs": [
    {
     "name": "stdout",
     "output_type": "stream",
     "text": [
      "Train on 60000 samples, validate on 10000 samples\n",
      "Epoch 1/10\n",
      "60000/60000 [==============================] - 9s 156us/sample - loss: 0.6925 - acc: 0.7673 - val_loss: 0.4561 - val_acc: 0.8344\n",
      "Epoch 2/10\n",
      "60000/60000 [==============================] - 8s 140us/sample - loss: 0.5027 - acc: 0.8265 - val_loss: 0.4339 - val_acc: 0.8371\n",
      "Epoch 3/10\n",
      "60000/60000 [==============================] - 9s 153us/sample - loss: 0.4586 - acc: 0.8431 - val_loss: 0.3938 - val_acc: 0.8555\n",
      "Epoch 4/10\n",
      "60000/60000 [==============================] - 9s 153us/sample - loss: 0.4294 - acc: 0.8507 - val_loss: 0.3776 - val_acc: 0.8646\n",
      "Epoch 5/10\n",
      "60000/60000 [==============================] - 9s 158us/sample - loss: 0.4091 - acc: 0.8579 - val_loss: 0.3609 - val_acc: 0.8696\n",
      "Epoch 6/10\n",
      "60000/60000 [==============================] - 9s 157us/sample - loss: 0.3941 - acc: 0.8629 - val_loss: 0.3620 - val_acc: 0.8699\n",
      "Epoch 7/10\n",
      "60000/60000 [==============================] - 9s 156us/sample - loss: 0.3775 - acc: 0.8683 - val_loss: 0.3391 - val_acc: 0.8764\n",
      "Epoch 8/10\n",
      "60000/60000 [==============================] - 9s 158us/sample - loss: 0.3665 - acc: 0.8718 - val_loss: 0.3739 - val_acc: 0.8682\n",
      "Epoch 9/10\n",
      "60000/60000 [==============================] - 10s 159us/sample - loss: 0.3588 - acc: 0.8747 - val_loss: 0.3390 - val_acc: 0.8748\n",
      "Epoch 10/10\n",
      "60000/60000 [==============================] - 10s 160us/sample - loss: 0.3507 - acc: 0.8780 - val_loss: 0.3409 - val_acc: 0.8736\n"
     ]
    }
   ],
   "source": [
    "model = mlp_model()\n",
    "history = model.fit(X_train, y_train, validation_data=(X_test,y_test), epochs = 10, verbose = 1)"
   ]
  },
  {
   "cell_type": "code",
   "execution_count": 66,
   "metadata": {},
   "outputs": [
    {
     "name": "stdout",
     "output_type": "stream",
     "text": [
      "10000/10000 [==============================] - 0s 41us/sample - loss: 0.3409 - acc: 0.8736\n",
      "Test accuracy:  0.8736\n"
     ]
    }
   ],
   "source": [
    "results = model.evaluate(X_test, y_test)\n",
    "print('Test accuracy: ', results[1])\n"
   ]
  },
  {
   "cell_type": "code",
   "execution_count": 65,
   "metadata": {},
   "outputs": [],
   "source": [
    "# the effect of batch_size !! , use more epochs as well"
   ]
  },
  {
   "cell_type": "code",
   "execution_count": 67,
   "metadata": {},
   "outputs": [
    {
     "name": "stdout",
     "output_type": "stream",
     "text": [
      "Train on 60000 samples, validate on 10000 samples\n",
      "Epoch 1/10\n",
      "60000/60000 [==============================] - 4s 62us/sample - loss: 0.7954 - acc: 0.7428 - val_loss: 0.4682 - val_acc: 0.8334\n",
      "Epoch 2/10\n",
      "60000/60000 [==============================] - 3s 45us/sample - loss: 0.4833 - acc: 0.8372 - val_loss: 0.4217 - val_acc: 0.8478\n",
      "Epoch 3/10\n",
      "60000/60000 [==============================] - 3s 45us/sample - loss: 0.4315 - acc: 0.8522 - val_loss: 0.4077 - val_acc: 0.8520\n",
      "Epoch 4/10\n",
      "60000/60000 [==============================] - 3s 47us/sample - loss: 0.3987 - acc: 0.8623 - val_loss: 0.3764 - val_acc: 0.8637\n",
      "Epoch 5/10\n",
      "60000/60000 [==============================] - 3s 46us/sample - loss: 0.3735 - acc: 0.8699 - val_loss: 0.3785 - val_acc: 0.8608\n",
      "Epoch 6/10\n",
      "60000/60000 [==============================] - 3s 46us/sample - loss: 0.3580 - acc: 0.8750 - val_loss: 0.3748 - val_acc: 0.8686\n",
      "Epoch 7/10\n",
      "60000/60000 [==============================] - 3s 47us/sample - loss: 0.3437 - acc: 0.8800 - val_loss: 0.3489 - val_acc: 0.8756\n",
      "Epoch 8/10\n",
      "60000/60000 [==============================] - 3s 48us/sample - loss: 0.3309 - acc: 0.8843 - val_loss: 0.3458 - val_acc: 0.8766\n",
      "Epoch 9/10\n",
      "60000/60000 [==============================] - 3s 47us/sample - loss: 0.3178 - acc: 0.8892 - val_loss: 0.3458 - val_acc: 0.8755\n",
      "Epoch 10/10\n",
      "60000/60000 [==============================] - 3s 47us/sample - loss: 0.3097 - acc: 0.8915 - val_loss: 0.3499 - val_acc: 0.8736\n"
     ]
    }
   ],
   "source": [
    "model = mlp_model()\n",
    "history = model.fit(X_train, y_train, validation_data=(X_test,y_test),batch_size = 200, epochs = 10, verbose = 1)"
   ]
  },
  {
   "cell_type": "code",
   "execution_count": null,
   "metadata": {},
   "outputs": [],
   "source": []
  },
  {
   "cell_type": "code",
   "execution_count": 0,
   "metadata": {
    "colab": {},
    "colab_type": "code",
    "id": "tb66vQo-KsM_"
   },
   "outputs": [],
   "source": [
    "##lIVE here I have used he-normal initializer"
   ]
  },
  {
   "cell_type": "code",
   "execution_count": 68,
   "metadata": {},
   "outputs": [],
   "source": [
    "def mlp_model():\n",
    "    \n",
    "    tf.keras.backend.clear_session()     \n",
    "    model = Sequential()\n",
    "    \n",
    "    model.add(Dense(200, input_shape = (784, ), kernel_initializer='he_normal'))\n",
    "    model.add(BatchNormalization())\n",
    "    model.add(Activation('relu'))\n",
    "    model.add(Dropout(0.2))\n",
    "    model.add(Dense(100, kernel_initializer='he_normal'))\n",
    "    model.add(BatchNormalization())\n",
    "    model.add(Activation('relu'))    \n",
    "    model.add(Dropout(0.2))\n",
    "    model.add(Dense(50, kernel_initializer='he_normal'))\n",
    "    model.add(BatchNormalization())\n",
    "    model.add(Activation('relu'))\n",
    "    model.add(Dropout(0.2))\n",
    "    model.add(Dense(50, kernel_initializer='he_normal'))\n",
    "    model.add(BatchNormalization())\n",
    "    model.add(Activation('relu'))\n",
    "    model.add(Dropout(0.2))\n",
    "    model.add(Dense(10, kernel_initializer='he_normal'))\n",
    "    model.add(Activation('softmax'))\n",
    "    \n",
    "    adam = optimizers.Adam(lr = 0.001)\n",
    "    model.compile(optimizer = adam, loss = 'categorical_crossentropy', metrics = ['accuracy'])\n",
    "    \n",
    "    return model"
   ]
  },
  {
   "cell_type": "code",
   "execution_count": 69,
   "metadata": {},
   "outputs": [
    {
     "name": "stdout",
     "output_type": "stream",
     "text": [
      "Train on 60000 samples, validate on 10000 samples\n",
      "Epoch 1/10\n",
      "60000/60000 [==============================] - 9s 151us/sample - loss: 0.7284 - acc: 0.7570 - val_loss: 0.4456 - val_acc: 0.8356\n",
      "Epoch 2/10\n",
      "60000/60000 [==============================] - 8s 139us/sample - loss: 0.5131 - acc: 0.8246 - val_loss: 0.4376 - val_acc: 0.8377\n",
      "Epoch 3/10\n",
      "60000/60000 [==============================] - 9s 142us/sample - loss: 0.4652 - acc: 0.8390 - val_loss: 0.4077 - val_acc: 0.8544\n",
      "Epoch 4/10\n",
      "60000/60000 [==============================] - 9s 145us/sample - loss: 0.4309 - acc: 0.8511 - val_loss: 0.3961 - val_acc: 0.8560\n",
      "Epoch 5/10\n",
      "60000/60000 [==============================] - 9s 147us/sample - loss: 0.4080 - acc: 0.8582 - val_loss: 0.3747 - val_acc: 0.8625\n",
      "Epoch 6/10\n",
      "60000/60000 [==============================] - 9s 148us/sample - loss: 0.3963 - acc: 0.8631 - val_loss: 0.3635 - val_acc: 0.8652\n",
      "Epoch 7/10\n",
      "60000/60000 [==============================] - 9s 152us/sample - loss: 0.3801 - acc: 0.8668 - val_loss: 0.3581 - val_acc: 0.8653\n",
      "Epoch 8/10\n",
      "60000/60000 [==============================] - 9s 150us/sample - loss: 0.3674 - acc: 0.8720 - val_loss: 0.3370 - val_acc: 0.8741\n",
      "Epoch 9/10\n",
      "60000/60000 [==============================] - 10s 162us/sample - loss: 0.3558 - acc: 0.8750 - val_loss: 0.3354 - val_acc: 0.8769\n",
      "Epoch 10/10\n",
      "60000/60000 [==============================] - 10s 160us/sample - loss: 0.3453 - acc: 0.8796 - val_loss: 0.3347 - val_acc: 0.8793\n"
     ]
    }
   ],
   "source": [
    "model = mlp_model()\n",
    "history = model.fit(X_train, y_train, validation_data=(X_test,y_test), epochs = 10, verbose = 1)"
   ]
  },
  {
   "cell_type": "code",
   "execution_count": 70,
   "metadata": {},
   "outputs": [
    {
     "name": "stdout",
     "output_type": "stream",
     "text": [
      "10000/10000 [==============================] - 0s 44us/sample - loss: 0.3347 - acc: 0.8793\n",
      "[0.3346599653959274, 0.8793]\n"
     ]
    }
   ],
   "source": [
    "results = model.evaluate(X_test, y_test)\n",
    "print(results)"
   ]
  },
  {
   "cell_type": "code",
   "execution_count": 71,
   "metadata": {},
   "outputs": [],
   "source": [
    "# effect of batch size"
   ]
  },
  {
   "cell_type": "code",
   "execution_count": 72,
   "metadata": {},
   "outputs": [
    {
     "name": "stdout",
     "output_type": "stream",
     "text": [
      "Train on 60000 samples, validate on 10000 samples\n",
      "Epoch 1/10\n",
      "60000/60000 [==============================] - 3s 49us/sample - loss: 0.2784 - acc: 0.9003 - val_loss: 0.3106 - val_acc: 0.8881\n",
      "Epoch 2/10\n",
      "60000/60000 [==============================] - 3s 49us/sample - loss: 0.2666 - acc: 0.9044 - val_loss: 0.3110 - val_acc: 0.8887\n",
      "Epoch 3/10\n",
      "60000/60000 [==============================] - 3s 49us/sample - loss: 0.2580 - acc: 0.9071 - val_loss: 0.3060 - val_acc: 0.8909\n",
      "Epoch 4/10\n",
      "60000/60000 [==============================] - 3s 49us/sample - loss: 0.2551 - acc: 0.9086 - val_loss: 0.3185 - val_acc: 0.8879\n",
      "Epoch 5/10\n",
      "60000/60000 [==============================] - 3s 49us/sample - loss: 0.2504 - acc: 0.9104 - val_loss: 0.3123 - val_acc: 0.8932\n",
      "Epoch 6/10\n",
      "60000/60000 [==============================] - 3s 50us/sample - loss: 0.2473 - acc: 0.9121 - val_loss: 0.3063 - val_acc: 0.8932\n",
      "Epoch 7/10\n",
      "60000/60000 [==============================] - 3s 50us/sample - loss: 0.2460 - acc: 0.9130 - val_loss: 0.3065 - val_acc: 0.8947\n",
      "Epoch 8/10\n",
      "60000/60000 [==============================] - 3s 50us/sample - loss: 0.2414 - acc: 0.9131 - val_loss: 0.3094 - val_acc: 0.8919\n",
      "Epoch 9/10\n",
      "60000/60000 [==============================] - 3s 50us/sample - loss: 0.2376 - acc: 0.9154 - val_loss: 0.3054 - val_acc: 0.8950\n",
      "Epoch 10/10\n",
      "60000/60000 [==============================] - 3s 50us/sample - loss: 0.2337 - acc: 0.9153 - val_loss: 0.3043 - val_acc: 0.8940\n"
     ]
    }
   ],
   "source": [
    "history = model.fit(X_train, y_train, validation_data=(X_test,y_test), batch_size = 200, epochs = 10, verbose = 1)"
   ]
  },
  {
   "cell_type": "code",
   "execution_count": 73,
   "metadata": {},
   "outputs": [
    {
     "name": "stdout",
     "output_type": "stream",
     "text": [
      "10000/10000 [==============================] - 0s 44us/sample - loss: 0.3043 - acc: 0.8940\n",
      "[0.30433595225811005, 0.894]\n"
     ]
    }
   ],
   "source": [
    "results = model.evaluate(X_test, y_test)\n",
    "print(results)"
   ]
  },
  {
   "cell_type": "code",
   "execution_count": 93,
   "metadata": {},
   "outputs": [],
   "source": [
    "#observations:\n",
    "# he_normal with batch_norm, dropout, more neurons and batch size seems to be peforming best\n",
    "# glorot/he_normal, RELU, SGD, 200,100, 50,50, BN, DO = 0.2, batchwise\n",
    "# (without batch_norm-dropout and less neurons, he_normal init lead to a score of 0.4 earlier, such is the impact of regularization\n",
    "# and also the activation function RELU)"
   ]
  },
  {
   "cell_type": "code",
   "execution_count": null,
   "metadata": {},
   "outputs": [],
   "source": [
    "#try:\n",
    "# he normal intializer with batch_norm, dropout, more neurons and batch size \n",
    "# use he_normal with decay rate !!! #you can increase neurons also"
   ]
  },
  {
   "cell_type": "code",
   "execution_count": null,
   "metadata": {},
   "outputs": [],
   "source": [
    "#df = pd.DataFrame([1,.....epochs--np.range(1,21)], [train_acc], [val_acc])"
   ]
  }
 ],
 "metadata": {
  "accelerator": "GPU",
  "colab": {
   "collapsed_sections": [],
   "name": "Image_Classification_Intro_to_NN_3.ipynb",
   "provenance": [],
   "toc_visible": true
  },
  "kernelspec": {
   "display_name": "Python 3",
   "language": "python",
   "name": "python3"
  },
  "language_info": {
   "codemirror_mode": {
    "name": "ipython",
    "version": 3
   },
   "file_extension": ".py",
   "mimetype": "text/x-python",
   "name": "python",
   "nbconvert_exporter": "python",
   "pygments_lexer": "ipython3",
   "version": "3.7.2"
  }
 },
 "nbformat": 4,
 "nbformat_minor": 1
}
